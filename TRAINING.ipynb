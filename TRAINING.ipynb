{
  "cells": [
    {
      "cell_type": "markdown",
      "metadata": {
        "id": "trW-06ieoj8y"
      },
      "source": [
        "Установка библиотек"
      ]
    },
    {
      "cell_type": "code",
      "execution_count": null,
      "metadata": {
        "id": "k-4cIwVtivDk"
      },
      "outputs": [],
      "source": [
        "! git clone https://github.com/cbluebenchmark/cblue"
      ]
    },
    {
      "cell_type": "code",
      "execution_count": null,
      "metadata": {
        "id": "iy_6-bWOi5gc"
      },
      "outputs": [],
      "source": [
        "! pip install jieba"
      ]
    },
    {
      "cell_type": "code",
      "execution_count": null,
      "metadata": {
        "id": "5C6K9dsLi5jE"
      },
      "outputs": [],
      "source": [
        "! pip install gensim"
      ]
    },
    {
      "cell_type": "code",
      "execution_count": null,
      "metadata": {
        "colab": {
          "base_uri": "https://localhost:8080/"
        },
        "id": "nCcFkGzSi5lf",
        "outputId": "b1904b7b-fb84-44ef-e9d0-5f4c39743b1a"
      },
      "outputs": [
        {
          "output_type": "stream",
          "name": "stdout",
          "text": [
            "Looking in indexes: https://pypi.org/simple, https://us-python.pkg.dev/colab-wheels/public/simple/\n",
            "Requirement already satisfied: scikit-learn in /usr/local/lib/python3.10/dist-packages (1.2.2)\n",
            "Requirement already satisfied: numpy>=1.17.3 in /usr/local/lib/python3.10/dist-packages (from scikit-learn) (1.22.4)\n",
            "Requirement already satisfied: scipy>=1.3.2 in /usr/local/lib/python3.10/dist-packages (from scikit-learn) (1.10.1)\n",
            "Requirement already satisfied: joblib>=1.1.1 in /usr/local/lib/python3.10/dist-packages (from scikit-learn) (1.2.0)\n",
            "Requirement already satisfied: threadpoolctl>=2.0.0 in /usr/local/lib/python3.10/dist-packages (from scikit-learn) (3.1.0)\n"
          ]
        }
      ],
      "source": [
        "! pip install scikit-learn"
      ]
    },
    {
      "cell_type": "code",
      "execution_count": null,
      "metadata": {
        "colab": {
          "base_uri": "https://localhost:8080/"
        },
        "id": "fUKyRXBZslpm",
        "outputId": "abc1d992-de7e-4cc8-db3b-005592c91c2e"
      },
      "outputs": [
        {
          "output_type": "stream",
          "name": "stdout",
          "text": [
            "Looking in indexes: https://pypi.org/simple, https://us-python.pkg.dev/colab-wheels/public/simple/\n",
            "Collecting git+https://github.com/sinovation/ZEN\n",
            "  Cloning https://github.com/sinovation/ZEN to /tmp/pip-req-build-jaueqsd8\n",
            "  Running command git clone --filter=blob:none --quiet https://github.com/sinovation/ZEN /tmp/pip-req-build-jaueqsd8\n",
            "  Resolved https://github.com/sinovation/ZEN to commit d5d9008b19643ae06647a390266030cbf1c1c63c\n",
            "  Preparing metadata (setup.py) ... \u001b[?25l\u001b[?25hdone\n",
            "Requirement already satisfied: numpy in /usr/local/lib/python3.10/dist-packages (from ZEN==0.1.0) (1.22.4)\n",
            "Collecting boto3 (from ZEN==0.1.0)\n",
            "  Downloading boto3-1.26.148-py3-none-any.whl (135 kB)\n",
            "\u001b[2K     \u001b[90m━━━━━━━━━━━━━━━━━━━━━━━━━━━━━━━━━━━━━━━\u001b[0m \u001b[32m135.6/135.6 kB\u001b[0m \u001b[31m2.3 MB/s\u001b[0m eta \u001b[36m0:00:00\u001b[0m\n",
            "\u001b[?25hRequirement already satisfied: requests in /usr/local/lib/python3.10/dist-packages (from ZEN==0.1.0) (2.27.1)\n",
            "Requirement already satisfied: tqdm in /usr/local/lib/python3.10/dist-packages (from ZEN==0.1.0) (4.65.0)\n",
            "Requirement already satisfied: regex in /usr/local/lib/python3.10/dist-packages (from ZEN==0.1.0) (2022.10.31)\n",
            "Collecting botocore<1.30.0,>=1.29.148 (from boto3->ZEN==0.1.0)\n",
            "  Downloading botocore-1.29.148-py3-none-any.whl (10.8 MB)\n",
            "\u001b[2K     \u001b[90m━━━━━━━━━━━━━━━━━━━━━━━━━━━━━━━━━━━━━━━━\u001b[0m \u001b[32m10.8/10.8 MB\u001b[0m \u001b[31m38.7 MB/s\u001b[0m eta \u001b[36m0:00:00\u001b[0m\n",
            "\u001b[?25hCollecting jmespath<2.0.0,>=0.7.1 (from boto3->ZEN==0.1.0)\n",
            "  Downloading jmespath-1.0.1-py3-none-any.whl (20 kB)\n",
            "Collecting s3transfer<0.7.0,>=0.6.0 (from boto3->ZEN==0.1.0)\n",
            "  Downloading s3transfer-0.6.1-py3-none-any.whl (79 kB)\n",
            "\u001b[2K     \u001b[90m━━━━━━━━━━━━━━━━━━━━━━━━━━━━━━━━━━━━━━━━\u001b[0m \u001b[32m79.8/79.8 kB\u001b[0m \u001b[31m10.5 MB/s\u001b[0m eta \u001b[36m0:00:00\u001b[0m\n",
            "\u001b[?25hRequirement already satisfied: urllib3<1.27,>=1.21.1 in /usr/local/lib/python3.10/dist-packages (from requests->ZEN==0.1.0) (1.26.15)\n",
            "Requirement already satisfied: certifi>=2017.4.17 in /usr/local/lib/python3.10/dist-packages (from requests->ZEN==0.1.0) (2022.12.7)\n",
            "Requirement already satisfied: charset-normalizer~=2.0.0 in /usr/local/lib/python3.10/dist-packages (from requests->ZEN==0.1.0) (2.0.12)\n",
            "Requirement already satisfied: idna<4,>=2.5 in /usr/local/lib/python3.10/dist-packages (from requests->ZEN==0.1.0) (3.4)\n",
            "Requirement already satisfied: python-dateutil<3.0.0,>=2.1 in /usr/local/lib/python3.10/dist-packages (from botocore<1.30.0,>=1.29.148->boto3->ZEN==0.1.0) (2.8.2)\n",
            "Requirement already satisfied: six>=1.5 in /usr/local/lib/python3.10/dist-packages (from python-dateutil<3.0.0,>=2.1->botocore<1.30.0,>=1.29.148->boto3->ZEN==0.1.0) (1.16.0)\n",
            "Building wheels for collected packages: ZEN\n",
            "  Building wheel for ZEN (setup.py) ... \u001b[?25l\u001b[?25hdone\n",
            "  Created wheel for ZEN: filename=ZEN-0.1.0-py3-none-any.whl size=32503 sha256=d81b0020aa19f886830938b7c1a25a9c2a6156559cb53c7a6b767ee7b6638228\n",
            "  Stored in directory: /tmp/pip-ephem-wheel-cache-_1sm_1di/wheels/12/fc/a2/9bc51ebe2f1d8e7ff3e6b09e98051ac69c710a4fc34aa72b41\n",
            "Successfully built ZEN\n",
            "Installing collected packages: jmespath, botocore, s3transfer, boto3, ZEN\n",
            "Successfully installed ZEN-0.1.0 boto3-1.26.148 botocore-1.29.148 jmespath-1.0.1 s3transfer-0.6.1\n"
          ]
        }
      ],
      "source": [
        "!pip install git+https://github.com/sinovation/ZEN"
      ]
    },
    {
      "cell_type": "code",
      "execution_count": null,
      "metadata": {
        "colab": {
          "base_uri": "https://localhost:8080/"
        },
        "id": "_QzQ05hK2NGp",
        "outputId": "9200d92e-1309-4e23-c6a0-90e9e55adfa4"
      },
      "outputs": [
        {
          "output_type": "stream",
          "name": "stdout",
          "text": [
            "Looking in indexes: https://pypi.org/simple, https://us-python.pkg.dev/colab-wheels/public/simple/\n",
            "Collecting transformers\n",
            "  Downloading transformers-4.29.2-py3-none-any.whl (7.1 MB)\n",
            "\u001b[2K     \u001b[90m━━━━━━━━━━━━━━━━━━━━━━━━━━━━━━━━━━━━━━━━\u001b[0m \u001b[32m7.1/7.1 MB\u001b[0m \u001b[31m34.0 MB/s\u001b[0m eta \u001b[36m0:00:00\u001b[0m\n",
            "\u001b[?25hRequirement already satisfied: filelock in /usr/local/lib/python3.10/dist-packages (from transformers) (3.12.0)\n",
            "Collecting huggingface-hub<1.0,>=0.14.1 (from transformers)\n",
            "  Downloading huggingface_hub-0.15.1-py3-none-any.whl (236 kB)\n",
            "\u001b[2K     \u001b[90m━━━━━━━━━━━━━━━━━━━━━━━━━━━━━━━━━━━━━━\u001b[0m \u001b[32m236.8/236.8 kB\u001b[0m \u001b[31m25.2 MB/s\u001b[0m eta \u001b[36m0:00:00\u001b[0m\n",
            "\u001b[?25hRequirement already satisfied: numpy>=1.17 in /usr/local/lib/python3.10/dist-packages (from transformers) (1.22.4)\n",
            "Requirement already satisfied: packaging>=20.0 in /usr/local/lib/python3.10/dist-packages (from transformers) (23.1)\n",
            "Requirement already satisfied: pyyaml>=5.1 in /usr/local/lib/python3.10/dist-packages (from transformers) (6.0)\n",
            "Requirement already satisfied: regex!=2019.12.17 in /usr/local/lib/python3.10/dist-packages (from transformers) (2022.10.31)\n",
            "Requirement already satisfied: requests in /usr/local/lib/python3.10/dist-packages (from transformers) (2.27.1)\n",
            "Collecting tokenizers!=0.11.3,<0.14,>=0.11.1 (from transformers)\n",
            "  Downloading tokenizers-0.13.3-cp310-cp310-manylinux_2_17_x86_64.manylinux2014_x86_64.whl (7.8 MB)\n",
            "\u001b[2K     \u001b[90m━━━━━━━━━━━━━━━━━━━━━━━━━━━━━━━━━━━━━━━━\u001b[0m \u001b[32m7.8/7.8 MB\u001b[0m \u001b[31m69.3 MB/s\u001b[0m eta \u001b[36m0:00:00\u001b[0m\n",
            "\u001b[?25hRequirement already satisfied: tqdm>=4.27 in /usr/local/lib/python3.10/dist-packages (from transformers) (4.65.0)\n",
            "Requirement already satisfied: fsspec in /usr/local/lib/python3.10/dist-packages (from huggingface-hub<1.0,>=0.14.1->transformers) (2023.4.0)\n",
            "Requirement already satisfied: typing-extensions>=3.7.4.3 in /usr/local/lib/python3.10/dist-packages (from huggingface-hub<1.0,>=0.14.1->transformers) (4.5.0)\n",
            "Requirement already satisfied: urllib3<1.27,>=1.21.1 in /usr/local/lib/python3.10/dist-packages (from requests->transformers) (1.26.15)\n",
            "Requirement already satisfied: certifi>=2017.4.17 in /usr/local/lib/python3.10/dist-packages (from requests->transformers) (2022.12.7)\n",
            "Requirement already satisfied: charset-normalizer~=2.0.0 in /usr/local/lib/python3.10/dist-packages (from requests->transformers) (2.0.12)\n",
            "Requirement already satisfied: idna<4,>=2.5 in /usr/local/lib/python3.10/dist-packages (from requests->transformers) (3.4)\n",
            "Installing collected packages: tokenizers, huggingface-hub, transformers\n",
            "Successfully installed huggingface-hub-0.15.1 tokenizers-0.13.3 transformers-4.29.2\n",
            "Looking in indexes: https://pypi.org/simple, https://us-python.pkg.dev/colab-wheels/public/simple/\n",
            "Requirement already satisfied: torch in /usr/local/lib/python3.10/dist-packages (2.0.1+cu118)\n",
            "Requirement already satisfied: torchvision in /usr/local/lib/python3.10/dist-packages (0.15.2+cu118)\n",
            "Requirement already satisfied: torchaudio in /usr/local/lib/python3.10/dist-packages (2.0.2+cu118)\n",
            "Requirement already satisfied: filelock in /usr/local/lib/python3.10/dist-packages (from torch) (3.12.0)\n",
            "Requirement already satisfied: typing-extensions in /usr/local/lib/python3.10/dist-packages (from torch) (4.5.0)\n",
            "Requirement already satisfied: sympy in /usr/local/lib/python3.10/dist-packages (from torch) (1.11.1)\n",
            "Requirement already satisfied: networkx in /usr/local/lib/python3.10/dist-packages (from torch) (3.1)\n",
            "Requirement already satisfied: jinja2 in /usr/local/lib/python3.10/dist-packages (from torch) (3.1.2)\n",
            "Requirement already satisfied: triton==2.0.0 in /usr/local/lib/python3.10/dist-packages (from torch) (2.0.0)\n",
            "Requirement already satisfied: cmake in /usr/local/lib/python3.10/dist-packages (from triton==2.0.0->torch) (3.25.2)\n",
            "Requirement already satisfied: lit in /usr/local/lib/python3.10/dist-packages (from triton==2.0.0->torch) (16.0.5)\n",
            "Requirement already satisfied: numpy in /usr/local/lib/python3.10/dist-packages (from torchvision) (1.22.4)\n",
            "Requirement already satisfied: requests in /usr/local/lib/python3.10/dist-packages (from torchvision) (2.27.1)\n",
            "Requirement already satisfied: pillow!=8.3.*,>=5.3.0 in /usr/local/lib/python3.10/dist-packages (from torchvision) (8.4.0)\n",
            "Requirement already satisfied: MarkupSafe>=2.0 in /usr/local/lib/python3.10/dist-packages (from jinja2->torch) (2.1.2)\n",
            "Requirement already satisfied: urllib3<1.27,>=1.21.1 in /usr/local/lib/python3.10/dist-packages (from requests->torchvision) (1.26.15)\n",
            "Requirement already satisfied: certifi>=2017.4.17 in /usr/local/lib/python3.10/dist-packages (from requests->torchvision) (2022.12.7)\n",
            "Requirement already satisfied: charset-normalizer~=2.0.0 in /usr/local/lib/python3.10/dist-packages (from requests->torchvision) (2.0.12)\n",
            "Requirement already satisfied: idna<4,>=2.5 in /usr/local/lib/python3.10/dist-packages (from requests->torchvision) (3.4)\n",
            "Requirement already satisfied: mpmath>=0.19 in /usr/local/lib/python3.10/dist-packages (from sympy->torch) (1.3.0)\n"
          ]
        }
      ],
      "source": [
        "!pip install transformers\n",
        "!pip install torch torchvision torchaudio"
      ]
    },
    {
      "cell_type": "markdown",
      "metadata": {
        "id": "IDM-vrgRo-kc"
      },
      "source": [
        "Импортируем зависимости"
      ]
    },
    {
      "cell_type": "code",
      "execution_count": null,
      "metadata": {
        "id": "wJ3CCRmfwuqa"
      },
      "outputs": [],
      "source": [
        "import torch\n",
        "import torch.nn as nn\n",
        "import numpy as np\n",
        "import argparse\n",
        "import matplotlib.pyplot as plt\n",
        "\n",
        "from numpy import arange\n",
        "\n",
        "from ZEN.modeling import ZenModel\n",
        "\n",
        "from cblue.data import EEDataProcessor, EEDataset\n",
        "from cblue.trainer import EETrainer\n",
        "from cblue.metrics import ee_metric, ee_commit_prediction\n",
        "\n",
        "from cblue.models import CDNForCLSModel\n",
        "from cblue.trainer import CDNForCLSTrainer, CDNForNUMTrainer\n",
        "from cblue.utils import init_logger, seed_everything\n",
        "from cblue.data import CDNDataset, CDNDataProcessor\n",
        "from cblue.models import save_zen_model, ZenModel, ZenForSequenceClassification, ZenNgramDict\n",
        "\n",
        "from transformers import BertTokenizer, BertModel, AlbertModel, BertForSequenceClassification, \\\n",
        "    AlbertForSequenceClassification, BertForTokenClassification, AlbertForTokenClassification, RobertaTokenizer, AutoTokenizer"
      ]
    },
    {
      "cell_type": "markdown",
      "metadata": {
        "id": "J2qK9FSdAwDa"
      },
      "source": [
        "# Новый раздел"
      ]
    },
    {
      "cell_type": "markdown",
      "metadata": {
        "id": "rTvG5xIdpRg-"
      },
      "source": [
        "Загружаем датасет"
      ]
    },
    {
      "cell_type": "code",
      "execution_count": null,
      "metadata": {
        "id": "dbPDy-GUybXl"
      },
      "outputs": [],
      "source": [
        "data_processor = EEDataProcessor('/content/')\n",
        "train_samples = data_processor.get_train_sample()\n",
        "eval_samples = data_processor.get_dev_sample()\n",
        "test_samples = data_processor.get_test_sample()\n"
      ]
    },
    {
      "cell_type": "code",
      "execution_count": null,
      "metadata": {
        "id": "fm5n-otnBzoy"
      },
      "outputs": [],
      "source": [
        "from transformers import BertTokenizer, BertModel, AlbertModel, BertForSequenceClassification, AlbertForSequenceClassification, BertForTokenClassification, AlbertForTokenClassification\n",
        "\n"
      ]
    },
    {
      "cell_type": "markdown",
      "metadata": {
        "id": "I9cjyh-XpW3L"
      },
      "source": [
        "Загружаем модель"
      ]
    },
    {
      "cell_type": "code",
      "execution_count": null,
      "metadata": {
        "id": "2OIZWrRWCk6N"
      },
      "outputs": [],
      "source": [
        "from transformers import (\n",
        "  BertTokenizerFast,\n",
        "  AutoModel,\n",
        ")\n"
      ]
    },
    {
      "cell_type": "code",
      "execution_count": null,
      "metadata": {
        "id": "r2LQrosiCymx"
      },
      "outputs": [],
      "source": [
        "from transformers import (RobertaForTokenClassification )"
      ]
    },
    {
      "cell_type": "code",
      "execution_count": null,
      "metadata": {
        "colab": {
          "base_uri": "https://localhost:8080/"
        },
        "id": "MMzkBUepF6mk",
        "outputId": "b23a7791-f825-48ae-ef1e-4f58f5cfbff7"
      },
      "outputs": [
        {
          "output_type": "stream",
          "name": "stderr",
          "text": [
            "You are using a model of type bert to instantiate a model of type roberta. This is not supported for all configurations of models and can yield errors.\n",
            "Some weights of the model checkpoint at hfl/chinese-roberta-wwm-ext-large were not used when initializing RobertaForTokenClassification: ['bert.encoder.layer.0.attention.output.dense.weight', 'bert.encoder.layer.1.output.LayerNorm.bias', 'bert.encoder.layer.7.output.LayerNorm.weight', 'bert.encoder.layer.2.output.dense.weight', 'bert.encoder.layer.1.attention.output.dense.bias', 'bert.encoder.layer.0.attention.self.key.weight', 'bert.encoder.layer.17.output.dense.weight', 'bert.encoder.layer.5.output.dense.bias', 'bert.encoder.layer.10.attention.self.value.bias', 'bert.encoder.layer.10.output.dense.weight', 'bert.encoder.layer.19.attention.self.query.bias', 'bert.encoder.layer.3.output.LayerNorm.weight', 'bert.encoder.layer.2.attention.output.dense.weight', 'bert.encoder.layer.15.attention.output.LayerNorm.weight', 'bert.encoder.layer.14.attention.self.key.bias', 'bert.encoder.layer.2.intermediate.dense.weight', 'bert.encoder.layer.0.attention.self.value.bias', 'bert.encoder.layer.5.attention.self.query.bias', 'bert.encoder.layer.4.attention.self.value.bias', 'bert.encoder.layer.14.attention.self.value.bias', 'bert.encoder.layer.14.attention.output.LayerNorm.bias', 'bert.encoder.layer.3.intermediate.dense.weight', 'bert.encoder.layer.16.attention.self.key.weight', 'bert.encoder.layer.22.attention.self.value.weight', 'bert.encoder.layer.23.intermediate.dense.bias', 'bert.encoder.layer.21.intermediate.dense.weight', 'bert.encoder.layer.23.attention.self.key.bias', 'bert.encoder.layer.7.attention.self.key.bias', 'bert.encoder.layer.23.output.LayerNorm.weight', 'bert.encoder.layer.5.output.LayerNorm.bias', 'bert.encoder.layer.8.attention.self.value.weight', 'bert.encoder.layer.3.attention.output.dense.bias', 'bert.encoder.layer.15.output.LayerNorm.bias', 'bert.encoder.layer.13.attention.self.query.weight', 'bert.encoder.layer.16.intermediate.dense.bias', 'bert.encoder.layer.1.output.dense.weight', 'bert.encoder.layer.12.attention.self.value.weight', 'bert.encoder.layer.21.attention.output.dense.bias', 'bert.encoder.layer.21.attention.output.LayerNorm.bias', 'bert.encoder.layer.3.output.dense.weight', 'bert.encoder.layer.16.intermediate.dense.weight', 'bert.encoder.layer.19.attention.self.key.weight', 'bert.encoder.layer.23.attention.output.LayerNorm.bias', 'bert.encoder.layer.2.attention.self.value.bias', 'bert.encoder.layer.12.attention.self.query.weight', 'bert.encoder.layer.20.attention.output.dense.bias', 'bert.encoder.layer.12.output.LayerNorm.bias', 'bert.encoder.layer.23.output.LayerNorm.bias', 'bert.encoder.layer.0.intermediate.dense.weight', 'cls.seq_relationship.weight', 'cls.predictions.transform.LayerNorm.weight', 'bert.encoder.layer.3.attention.self.value.bias', 'bert.encoder.layer.1.attention.self.value.bias', 'bert.encoder.layer.19.attention.output.dense.weight', 'bert.encoder.layer.14.attention.self.key.weight', 'bert.encoder.layer.10.attention.output.LayerNorm.weight', 'bert.encoder.layer.2.attention.output.dense.bias', 'bert.encoder.layer.20.output.LayerNorm.bias', 'bert.encoder.layer.5.intermediate.dense.bias', 'bert.encoder.layer.0.attention.output.dense.bias', 'bert.encoder.layer.4.output.dense.bias', 'bert.encoder.layer.6.attention.self.query.bias', 'bert.encoder.layer.0.attention.output.LayerNorm.bias', 'bert.encoder.layer.7.output.dense.weight', 'bert.encoder.layer.1.attention.self.query.bias', 'bert.encoder.layer.22.attention.self.key.bias', 'bert.encoder.layer.10.output.dense.bias', 'bert.encoder.layer.9.attention.output.dense.weight', 'bert.encoder.layer.7.intermediate.dense.bias', 'bert.encoder.layer.20.intermediate.dense.weight', 'bert.encoder.layer.9.output.LayerNorm.weight', 'bert.encoder.layer.1.attention.self.key.bias', 'cls.predictions.transform.dense.bias', 'bert.encoder.layer.3.attention.self.key.weight', 'bert.encoder.layer.20.attention.self.key.weight', 'bert.encoder.layer.14.attention.output.dense.bias', 'bert.encoder.layer.16.attention.self.value.weight', 'bert.encoder.layer.17.attention.self.query.bias', 'bert.encoder.layer.13.output.LayerNorm.bias', 'bert.encoder.layer.13.attention.self.value.weight', 'bert.encoder.layer.0.intermediate.dense.bias', 'bert.encoder.layer.0.attention.self.query.bias', 'bert.encoder.layer.13.attention.output.dense.weight', 'bert.encoder.layer.17.attention.self.value.weight', 'bert.encoder.layer.15.attention.self.key.weight', 'bert.encoder.layer.22.attention.output.dense.weight', 'bert.encoder.layer.4.attention.self.query.weight', 'cls.seq_relationship.bias', 'bert.encoder.layer.1.attention.output.LayerNorm.weight', 'bert.encoder.layer.5.attention.self.query.weight', 'bert.encoder.layer.13.attention.output.LayerNorm.bias', 'bert.encoder.layer.23.attention.output.LayerNorm.weight', 'bert.encoder.layer.10.attention.self.value.weight', 'bert.encoder.layer.19.output.dense.bias', 'bert.encoder.layer.4.attention.output.dense.bias', 'bert.encoder.layer.8.attention.self.key.bias', 'bert.encoder.layer.15.intermediate.dense.weight', 'cls.predictions.bias', 'bert.encoder.layer.2.output.LayerNorm.bias', 'bert.encoder.layer.23.attention.self.key.weight', 'bert.encoder.layer.21.attention.output.dense.weight', 'bert.encoder.layer.12.attention.self.key.weight', 'bert.encoder.layer.5.output.dense.weight', 'bert.encoder.layer.10.intermediate.dense.bias', 'bert.encoder.layer.16.attention.self.query.weight', 'bert.encoder.layer.20.attention.self.value.bias', 'bert.encoder.layer.10.output.LayerNorm.weight', 'bert.encoder.layer.7.output.dense.bias', 'bert.encoder.layer.19.attention.output.LayerNorm.weight', 'bert.encoder.layer.21.attention.self.value.bias', 'bert.encoder.layer.5.intermediate.dense.weight', 'bert.encoder.layer.8.attention.output.LayerNorm.weight', 'bert.encoder.layer.12.intermediate.dense.weight', 'bert.embeddings.word_embeddings.weight', 'bert.encoder.layer.9.attention.self.value.weight', 'bert.encoder.layer.3.attention.output.dense.weight', 'bert.encoder.layer.19.attention.output.LayerNorm.bias', 'bert.encoder.layer.11.attention.self.value.bias', 'bert.encoder.layer.3.output.LayerNorm.bias', 'bert.encoder.layer.5.attention.output.dense.weight', 'bert.encoder.layer.13.intermediate.dense.weight', 'bert.encoder.layer.17.attention.output.LayerNorm.bias', 'bert.encoder.layer.2.attention.self.query.weight', 'bert.encoder.layer.11.output.LayerNorm.bias', 'bert.encoder.layer.7.attention.self.key.weight', 'bert.encoder.layer.11.attention.output.dense.bias', 'bert.encoder.layer.5.attention.output.dense.bias', 'bert.encoder.layer.4.output.dense.weight', 'bert.encoder.layer.12.attention.output.dense.weight', 'bert.encoder.layer.0.attention.self.query.weight', 'bert.encoder.layer.10.output.LayerNorm.bias', 'bert.encoder.layer.5.attention.self.value.weight', 'bert.encoder.layer.6.intermediate.dense.bias', 'bert.encoder.layer.16.attention.output.LayerNorm.bias', 'bert.encoder.layer.14.attention.output.dense.weight', 'bert.encoder.layer.19.attention.output.dense.bias', 'bert.encoder.layer.11.attention.output.LayerNorm.bias', 'bert.encoder.layer.9.output.dense.bias', 'bert.encoder.layer.20.attention.output.LayerNorm.bias', 'bert.encoder.layer.16.attention.output.LayerNorm.weight', 'bert.encoder.layer.22.output.dense.weight', 'bert.encoder.layer.2.attention.output.LayerNorm.bias', 'bert.encoder.layer.10.attention.self.key.bias', 'bert.encoder.layer.9.intermediate.dense.weight', 'bert.encoder.layer.1.intermediate.dense.weight', 'bert.encoder.layer.9.attention.output.LayerNorm.weight', 'bert.encoder.layer.20.attention.self.value.weight', 'bert.encoder.layer.2.intermediate.dense.bias', 'bert.encoder.layer.19.output.LayerNorm.weight', 'bert.encoder.layer.9.attention.self.query.bias', 'bert.encoder.layer.6.output.dense.bias', 'bert.encoder.layer.13.intermediate.dense.bias', 'bert.encoder.layer.3.intermediate.dense.bias', 'bert.encoder.layer.20.attention.output.LayerNorm.weight', 'bert.encoder.layer.1.attention.self.query.weight', 'bert.encoder.layer.18.attention.self.value.weight', 'bert.encoder.layer.1.attention.self.value.weight', 'bert.encoder.layer.7.attention.output.dense.bias', 'bert.encoder.layer.3.attention.self.value.weight', 'bert.encoder.layer.7.attention.output.LayerNorm.bias', 'bert.encoder.layer.16.attention.self.key.bias', 'bert.encoder.layer.15.attention.self.value.weight', 'bert.encoder.layer.19.output.LayerNorm.bias', 'bert.encoder.layer.15.output.LayerNorm.weight', 'bert.encoder.layer.17.attention.self.value.bias', 'bert.encoder.layer.21.output.LayerNorm.bias', 'bert.encoder.layer.22.attention.self.query.weight', 'bert.encoder.layer.12.attention.output.LayerNorm.bias', 'bert.encoder.layer.17.intermediate.dense.bias', 'bert.encoder.layer.11.output.dense.weight', 'bert.encoder.layer.17.attention.self.key.weight', 'bert.encoder.layer.21.output.dense.weight', 'bert.encoder.layer.14.attention.output.LayerNorm.weight', 'bert.encoder.layer.6.attention.self.key.bias', 'bert.encoder.layer.18.output.dense.weight', 'bert.encoder.layer.22.attention.output.dense.bias', 'bert.encoder.layer.5.attention.self.key.bias', 'bert.encoder.layer.14.output.dense.bias', 'cls.predictions.decoder.weight', 'bert.encoder.layer.3.attention.output.LayerNorm.bias', 'bert.encoder.layer.6.attention.output.dense.weight', 'bert.encoder.layer.21.attention.self.value.weight', 'bert.encoder.layer.16.output.dense.weight', 'bert.encoder.layer.23.attention.self.query.bias', 'bert.encoder.layer.22.output.LayerNorm.bias', 'bert.encoder.layer.11.attention.output.LayerNorm.weight', 'bert.encoder.layer.8.attention.output.LayerNorm.bias', 'bert.encoder.layer.13.attention.output.dense.bias', 'bert.encoder.layer.4.attention.self.key.weight', 'bert.encoder.layer.13.attention.self.value.bias', 'bert.encoder.layer.14.output.LayerNorm.bias', 'bert.encoder.layer.14.intermediate.dense.weight', 'bert.encoder.layer.9.output.LayerNorm.bias', 'bert.encoder.layer.22.attention.self.key.weight', 'bert.encoder.layer.9.attention.self.key.bias', 'bert.encoder.layer.0.output.dense.weight', 'bert.encoder.layer.15.attention.output.dense.weight', 'bert.encoder.layer.17.intermediate.dense.weight', 'bert.encoder.layer.22.intermediate.dense.bias', 'bert.encoder.layer.12.attention.self.value.bias', 'bert.encoder.layer.12.attention.self.query.bias', 'bert.encoder.layer.9.attention.self.key.weight', 'bert.encoder.layer.17.attention.self.query.weight', 'bert.encoder.layer.15.intermediate.dense.bias', 'bert.encoder.layer.14.output.dense.weight', 'bert.encoder.layer.11.attention.output.dense.weight', 'bert.encoder.layer.4.attention.self.key.bias', 'bert.encoder.layer.15.output.dense.weight', 'bert.encoder.layer.21.attention.self.query.bias', 'bert.encoder.layer.15.attention.self.query.bias', 'bert.encoder.layer.4.attention.output.LayerNorm.weight', 'bert.encoder.layer.23.attention.self.query.weight', 'bert.encoder.layer.23.attention.output.dense.weight', 'bert.encoder.layer.8.output.dense.bias', 'bert.encoder.layer.16.attention.output.dense.bias', 'bert.encoder.layer.18.attention.output.dense.bias', 'bert.encoder.layer.6.output.LayerNorm.bias', 'bert.encoder.layer.2.output.LayerNorm.weight', 'bert.encoder.layer.18.attention.self.key.weight', 'bert.encoder.layer.17.attention.self.key.bias', 'bert.encoder.layer.23.output.dense.bias', 'bert.encoder.layer.0.attention.self.key.bias', 'bert.encoder.layer.19.intermediate.dense.weight', 'bert.encoder.layer.13.output.dense.weight', 'bert.encoder.layer.18.intermediate.dense.bias', 'bert.encoder.layer.21.attention.self.key.bias', 'bert.encoder.layer.23.attention.self.value.bias', 'bert.encoder.layer.2.attention.self.value.weight', 'bert.encoder.layer.7.attention.self.value.weight', 'bert.encoder.layer.2.attention.self.query.bias', 'bert.encoder.layer.10.attention.self.query.weight', 'bert.encoder.layer.22.output.LayerNorm.weight', 'bert.encoder.layer.7.attention.self.query.weight', 'bert.encoder.layer.22.attention.self.query.bias', 'bert.encoder.layer.18.intermediate.dense.weight', 'bert.encoder.layer.22.attention.self.value.bias', 'bert.encoder.layer.4.attention.self.query.bias', 'bert.encoder.layer.16.attention.output.dense.weight', 'bert.encoder.layer.20.output.dense.weight', 'bert.encoder.layer.15.attention.self.query.weight', 'bert.encoder.layer.21.output.LayerNorm.weight', 'bert.embeddings.LayerNorm.weight', 'bert.encoder.layer.11.attention.self.query.bias', 'bert.encoder.layer.14.output.LayerNorm.weight', 'bert.encoder.layer.13.attention.self.query.bias', 'bert.encoder.layer.23.attention.output.dense.bias', 'bert.encoder.layer.4.output.LayerNorm.bias', 'bert.encoder.layer.9.output.dense.weight', 'bert.encoder.layer.6.intermediate.dense.weight', 'bert.encoder.layer.11.intermediate.dense.bias', 'bert.encoder.layer.11.attention.self.key.bias', 'bert.encoder.layer.20.attention.self.query.bias', 'bert.encoder.layer.10.attention.output.LayerNorm.bias', 'bert.encoder.layer.5.attention.self.key.weight', 'bert.encoder.layer.5.output.LayerNorm.weight', 'bert.encoder.layer.4.intermediate.dense.weight', 'bert.encoder.layer.12.output.dense.bias', 'bert.encoder.layer.18.output.dense.bias', 'bert.encoder.layer.16.attention.self.query.bias', 'bert.encoder.layer.7.attention.self.query.bias', 'bert.encoder.layer.15.attention.self.key.bias', 'bert.encoder.layer.6.attention.self.value.weight', 'bert.encoder.layer.13.output.dense.bias', 'bert.encoder.layer.2.attention.self.key.bias', 'bert.encoder.layer.11.output.dense.bias', 'bert.encoder.layer.3.attention.self.key.bias', 'bert.encoder.layer.6.attention.self.query.weight', 'bert.encoder.layer.19.attention.self.value.bias', 'bert.encoder.layer.18.attention.output.dense.weight', 'bert.encoder.layer.19.intermediate.dense.bias', 'bert.encoder.layer.15.attention.output.dense.bias', 'bert.encoder.layer.16.output.dense.bias', 'bert.encoder.layer.6.attention.output.LayerNorm.weight', 'cls.predictions.transform.LayerNorm.bias', 'bert.encoder.layer.3.attention.output.LayerNorm.weight', 'bert.encoder.layer.8.intermediate.dense.weight', 'bert.encoder.layer.16.attention.self.value.bias', 'bert.encoder.layer.11.attention.self.query.weight', 'bert.encoder.layer.0.output.LayerNorm.weight', 'bert.encoder.layer.7.output.LayerNorm.bias', 'bert.encoder.layer.4.output.LayerNorm.weight', 'bert.encoder.layer.2.attention.self.key.weight', 'bert.encoder.layer.12.output.dense.weight', 'bert.encoder.layer.23.intermediate.dense.weight', 'bert.encoder.layer.15.attention.self.value.bias', 'bert.encoder.layer.8.output.dense.weight', 'bert.encoder.layer.12.attention.self.key.bias', 'bert.encoder.layer.22.intermediate.dense.weight', 'bert.encoder.layer.8.output.LayerNorm.bias', 'bert.embeddings.token_type_embeddings.weight', 'bert.encoder.layer.12.output.LayerNorm.weight', 'bert.encoder.layer.13.attention.self.key.bias', 'bert.encoder.layer.15.attention.output.LayerNorm.bias', 'bert.encoder.layer.20.attention.self.key.bias', 'bert.encoder.layer.1.intermediate.dense.bias', 'bert.encoder.layer.23.attention.self.value.weight', 'bert.encoder.layer.18.attention.output.LayerNorm.weight', 'bert.encoder.layer.20.output.dense.bias', 'bert.encoder.layer.3.attention.self.query.bias', 'bert.encoder.layer.8.attention.self.value.bias', 'bert.encoder.layer.20.output.LayerNorm.weight', 'bert.encoder.layer.18.attention.self.key.bias', 'bert.encoder.layer.18.attention.self.value.bias', 'bert.encoder.layer.21.output.dense.bias', 'bert.encoder.layer.5.attention.output.LayerNorm.bias', 'bert.encoder.layer.18.output.LayerNorm.weight', 'bert.encoder.layer.3.output.dense.bias', 'bert.encoder.layer.19.attention.self.key.bias', 'bert.encoder.layer.5.attention.output.LayerNorm.weight', 'bert.encoder.layer.7.attention.self.value.bias', 'bert.encoder.layer.15.output.dense.bias', 'bert.encoder.layer.18.output.LayerNorm.bias', 'bert.encoder.layer.23.output.dense.weight', 'bert.encoder.layer.13.attention.output.LayerNorm.weight', 'bert.encoder.layer.8.intermediate.dense.bias', 'bert.encoder.layer.9.intermediate.dense.bias', 'bert.encoder.layer.12.intermediate.dense.bias', 'bert.encoder.layer.7.attention.output.dense.weight', 'bert.encoder.layer.4.attention.output.LayerNorm.bias', 'bert.encoder.layer.21.attention.self.query.weight', 'bert.encoder.layer.2.attention.output.LayerNorm.weight', 'bert.encoder.layer.17.output.dense.bias', 'bert.encoder.layer.8.attention.self.query.weight', 'bert.encoder.layer.11.intermediate.dense.weight', 'bert.encoder.layer.14.attention.self.query.bias', 'bert.encoder.layer.6.attention.self.key.weight', 'bert.encoder.layer.17.output.LayerNorm.weight', 'bert.encoder.layer.18.attention.self.query.bias', 'bert.encoder.layer.6.attention.output.LayerNorm.bias', 'bert.encoder.layer.4.attention.output.dense.weight', 'bert.encoder.layer.12.attention.output.dense.bias', 'bert.embeddings.LayerNorm.bias', 'bert.encoder.layer.16.output.LayerNorm.bias', 'bert.encoder.layer.1.attention.output.dense.weight', 'bert.encoder.layer.8.output.LayerNorm.weight', 'bert.encoder.layer.10.attention.output.dense.bias', 'bert.encoder.layer.8.attention.output.dense.weight', 'bert.encoder.layer.6.attention.self.value.bias', 'cls.predictions.transform.dense.weight', 'bert.encoder.layer.8.attention.self.query.bias', 'bert.encoder.layer.17.attention.output.dense.bias', 'bert.encoder.layer.14.intermediate.dense.bias', 'bert.encoder.layer.22.output.dense.bias', 'bert.encoder.layer.1.output.dense.bias', 'bert.encoder.layer.1.output.LayerNorm.weight', 'bert.encoder.layer.11.attention.self.value.weight', 'bert.encoder.layer.6.output.dense.weight', 'bert.encoder.layer.22.attention.output.LayerNorm.bias', 'bert.encoder.layer.6.attention.output.dense.bias', 'bert.encoder.layer.0.attention.self.value.weight', 'bert.encoder.layer.2.output.dense.bias', 'bert.encoder.layer.5.attention.self.value.bias', 'bert.encoder.layer.8.attention.output.dense.bias', 'bert.encoder.layer.20.intermediate.dense.bias', 'bert.encoder.layer.0.output.LayerNorm.bias', 'bert.encoder.layer.9.attention.self.query.weight', 'bert.encoder.layer.1.attention.output.LayerNorm.bias', 'bert.encoder.layer.1.attention.self.key.weight', 'bert.encoder.layer.9.attention.output.LayerNorm.bias', 'bert.encoder.layer.21.attention.output.LayerNorm.weight', 'bert.encoder.layer.17.attention.output.LayerNorm.weight', 'bert.encoder.layer.21.intermediate.dense.bias', 'bert.encoder.layer.4.intermediate.dense.bias', 'bert.encoder.layer.19.output.dense.weight', 'bert.encoder.layer.11.output.LayerNorm.weight', 'bert.encoder.layer.8.attention.self.key.weight', 'bert.encoder.layer.12.attention.output.LayerNorm.weight', 'bert.encoder.layer.7.intermediate.dense.weight', 'bert.encoder.layer.21.attention.self.key.weight', 'bert.encoder.layer.0.output.dense.bias', 'bert.encoder.layer.18.attention.output.LayerNorm.bias', 'bert.encoder.layer.9.attention.self.value.bias', 'bert.encoder.layer.10.attention.output.dense.weight', 'bert.encoder.layer.16.output.LayerNorm.weight', 'bert.encoder.layer.0.attention.output.LayerNorm.weight', 'bert.encoder.layer.19.attention.self.query.weight', 'bert.encoder.layer.14.attention.self.query.weight', 'bert.encoder.layer.7.attention.output.LayerNorm.weight', 'bert.encoder.layer.10.intermediate.dense.weight', 'bert.encoder.layer.20.attention.output.dense.weight', 'bert.encoder.layer.10.attention.self.key.weight', 'bert.encoder.layer.22.attention.output.LayerNorm.weight', 'bert.encoder.layer.17.attention.output.dense.weight', 'bert.encoder.layer.19.attention.self.value.weight', 'bert.encoder.layer.3.attention.self.query.weight', 'bert.encoder.layer.9.attention.output.dense.bias', 'bert.encoder.layer.13.output.LayerNorm.weight', 'bert.encoder.layer.4.attention.self.value.weight', 'bert.encoder.layer.10.attention.self.query.bias', 'bert.encoder.layer.6.output.LayerNorm.weight', 'bert.embeddings.position_embeddings.weight', 'bert.encoder.layer.20.attention.self.query.weight', 'bert.encoder.layer.17.output.LayerNorm.bias', 'bert.encoder.layer.14.attention.self.value.weight', 'bert.encoder.layer.11.attention.self.key.weight', 'bert.encoder.layer.18.attention.self.query.weight', 'bert.encoder.layer.13.attention.self.key.weight']\n",
            "- This IS expected if you are initializing RobertaForTokenClassification from the checkpoint of a model trained on another task or with another architecture (e.g. initializing a BertForSequenceClassification model from a BertForPreTraining model).\n",
            "- This IS NOT expected if you are initializing RobertaForTokenClassification from the checkpoint of a model that you expect to be exactly identical (initializing a BertForSequenceClassification model from a BertForSequenceClassification model).\n",
            "Some weights of RobertaForTokenClassification were not initialized from the model checkpoint at hfl/chinese-roberta-wwm-ext-large and are newly initialized: ['encoder.layer.18.intermediate.dense.bias', 'encoder.layer.1.attention.output.LayerNorm.weight', 'encoder.layer.21.attention.self.query.weight', 'encoder.layer.23.attention.output.LayerNorm.weight', 'encoder.layer.9.attention.output.LayerNorm.weight', 'encoder.layer.14.attention.self.query.weight', 'encoder.layer.6.attention.self.value.bias', 'encoder.layer.1.output.LayerNorm.bias', 'encoder.layer.5.output.dense.weight', 'encoder.layer.3.attention.output.dense.bias', 'encoder.layer.4.attention.output.LayerNorm.bias', 'encoder.layer.3.attention.output.LayerNorm.weight', 'encoder.layer.20.intermediate.dense.weight', 'encoder.layer.16.output.dense.weight', 'encoder.layer.4.attention.self.query.weight', 'encoder.layer.22.attention.self.query.bias', 'encoder.layer.3.output.dense.weight', 'encoder.layer.1.intermediate.dense.weight', 'encoder.layer.3.attention.self.key.bias', 'encoder.layer.23.attention.self.key.bias', 'encoder.layer.8.attention.self.key.weight', 'encoder.layer.7.attention.self.query.weight', 'encoder.layer.23.output.LayerNorm.bias', 'encoder.layer.6.output.LayerNorm.weight', 'encoder.layer.17.intermediate.dense.weight', 'encoder.layer.9.attention.output.dense.weight', 'encoder.layer.14.attention.output.LayerNorm.bias', 'encoder.layer.13.attention.self.key.weight', 'encoder.layer.23.attention.self.query.weight', 'encoder.layer.11.attention.output.LayerNorm.weight', 'encoder.layer.22.attention.self.value.weight', 'encoder.layer.16.attention.self.query.bias', 'encoder.layer.8.output.dense.bias', 'encoder.layer.0.attention.output.LayerNorm.weight', 'encoder.layer.7.attention.output.LayerNorm.weight', 'encoder.layer.18.attention.output.LayerNorm.weight', 'encoder.layer.9.attention.self.value.bias', 'encoder.layer.0.attention.output.dense.weight', 'encoder.layer.20.attention.output.LayerNorm.weight', 'encoder.layer.23.intermediate.dense.bias', 'encoder.layer.10.output.LayerNorm.bias', 'encoder.layer.1.attention.output.dense.bias', 'encoder.layer.1.output.dense.weight', 'encoder.layer.20.attention.output.dense.weight', 'encoder.layer.17.attention.self.key.bias', 'encoder.layer.23.attention.self.key.weight', 'encoder.layer.14.output.LayerNorm.weight', 'encoder.layer.22.attention.output.LayerNorm.bias', 'embeddings.LayerNorm.weight', 'encoder.layer.19.intermediate.dense.weight', 'encoder.layer.2.attention.self.query.bias', 'encoder.layer.9.intermediate.dense.weight', 'encoder.layer.18.output.dense.bias', 'encoder.layer.20.attention.self.key.bias', 'encoder.layer.15.output.dense.weight', 'encoder.layer.23.intermediate.dense.weight', 'encoder.layer.13.attention.self.value.bias', 'encoder.layer.17.attention.self.value.bias', 'encoder.layer.3.attention.self.query.bias', 'encoder.layer.18.output.dense.weight', 'encoder.layer.21.attention.self.query.bias', 'encoder.layer.10.output.dense.bias', 'encoder.layer.16.attention.self.key.bias', 'encoder.layer.12.output.dense.weight', 'encoder.layer.7.output.LayerNorm.bias', 'encoder.layer.6.attention.output.dense.bias', 'encoder.layer.0.intermediate.dense.bias', 'encoder.layer.13.output.dense.bias', 'encoder.layer.19.output.LayerNorm.weight', 'encoder.layer.22.output.LayerNorm.bias', 'encoder.layer.9.output.LayerNorm.bias', 'encoder.layer.20.attention.output.dense.bias', 'encoder.layer.20.attention.self.query.weight', 'encoder.layer.11.attention.output.dense.bias', 'encoder.layer.17.attention.output.LayerNorm.weight', 'encoder.layer.2.output.dense.bias', 'encoder.layer.8.attention.self.value.weight', 'encoder.layer.18.attention.self.query.weight', 'encoder.layer.11.attention.self.query.weight', 'encoder.layer.7.attention.output.LayerNorm.bias', 'encoder.layer.2.attention.output.dense.weight', 'encoder.layer.0.attention.self.query.weight', 'encoder.layer.17.intermediate.dense.bias', 'encoder.layer.1.attention.self.value.weight', 'encoder.layer.11.attention.self.key.weight', 'encoder.layer.1.attention.self.query.weight', 'encoder.layer.5.attention.output.dense.bias', 'encoder.layer.11.output.LayerNorm.weight', 'encoder.layer.9.attention.self.query.bias', 'encoder.layer.16.output.dense.bias', 'encoder.layer.15.attention.output.dense.bias', 'encoder.layer.22.intermediate.dense.bias', 'encoder.layer.23.attention.output.dense.weight', 'encoder.layer.17.attention.output.LayerNorm.bias', 'encoder.layer.0.attention.self.key.weight', 'encoder.layer.13.output.LayerNorm.bias', 'encoder.layer.17.output.dense.bias', 'encoder.layer.0.attention.self.key.bias', 'encoder.layer.7.intermediate.dense.weight', 'encoder.layer.14.attention.output.dense.weight', 'encoder.layer.4.output.LayerNorm.weight', 'encoder.layer.5.attention.self.query.bias', 'encoder.layer.16.attention.self.key.weight', 'encoder.layer.1.attention.self.value.bias', 'encoder.layer.11.attention.output.LayerNorm.bias', 'encoder.layer.7.output.dense.bias', 'encoder.layer.4.intermediate.dense.weight', 'encoder.layer.12.intermediate.dense.weight', 'encoder.layer.22.attention.output.LayerNorm.weight', 'encoder.layer.7.attention.output.dense.bias', 'encoder.layer.15.attention.self.key.weight', 'encoder.layer.16.attention.self.value.weight', 'encoder.layer.8.attention.output.dense.weight', 'encoder.layer.14.attention.self.key.bias', 'encoder.layer.5.attention.output.dense.weight', 'encoder.layer.19.attention.self.value.bias', 'encoder.layer.12.attention.output.LayerNorm.weight', 'encoder.layer.14.output.LayerNorm.bias', 'encoder.layer.8.attention.self.value.bias', 'encoder.layer.18.attention.self.key.weight', 'encoder.layer.20.output.LayerNorm.bias', 'encoder.layer.4.attention.output.LayerNorm.weight', 'encoder.layer.16.intermediate.dense.weight', 'encoder.layer.13.attention.output.LayerNorm.weight', 'encoder.layer.0.attention.self.value.bias', 'encoder.layer.1.intermediate.dense.bias', 'encoder.layer.21.output.dense.weight', 'encoder.layer.3.attention.self.value.bias', 'encoder.layer.20.output.dense.bias', 'encoder.layer.2.output.dense.weight', 'encoder.layer.18.attention.self.value.weight', 'encoder.layer.7.attention.self.value.weight', 'encoder.layer.17.attention.self.query.weight', 'encoder.layer.21.output.dense.bias', 'encoder.layer.20.output.LayerNorm.weight', 'encoder.layer.6.attention.self.key.weight', 'encoder.layer.10.attention.output.LayerNorm.weight', 'encoder.layer.0.output.LayerNorm.bias', 'encoder.layer.8.output.LayerNorm.bias', 'encoder.layer.9.attention.self.key.bias', 'encoder.layer.1.output.LayerNorm.weight', 'encoder.layer.12.output.LayerNorm.bias', 'encoder.layer.23.output.dense.bias', 'encoder.layer.23.output.LayerNorm.weight', 'encoder.layer.12.attention.self.query.weight', 'encoder.layer.9.output.LayerNorm.weight', 'encoder.layer.14.attention.self.query.bias', 'encoder.layer.22.attention.self.key.weight', 'encoder.layer.3.attention.output.LayerNorm.bias', 'encoder.layer.15.output.dense.bias', 'encoder.layer.10.attention.self.key.bias', 'encoder.layer.2.attention.self.key.bias', 'encoder.layer.22.output.LayerNorm.weight', 'encoder.layer.15.attention.output.LayerNorm.weight', 'encoder.layer.23.attention.output.LayerNorm.bias', 'encoder.layer.11.attention.self.value.weight', 'encoder.layer.12.output.LayerNorm.weight', 'encoder.layer.15.output.LayerNorm.bias', 'encoder.layer.11.intermediate.dense.bias', 'encoder.layer.5.output.LayerNorm.weight', 'encoder.layer.5.intermediate.dense.bias', 'encoder.layer.3.attention.self.query.weight', 'encoder.layer.11.output.dense.bias', 'encoder.layer.12.attention.self.value.weight', 'encoder.layer.18.attention.self.key.bias', 'encoder.layer.17.attention.self.query.bias', 'embeddings.token_type_embeddings.weight', 'encoder.layer.16.attention.self.value.bias', 'encoder.layer.19.attention.self.key.bias', 'encoder.layer.14.intermediate.dense.weight', 'encoder.layer.16.intermediate.dense.bias', 'encoder.layer.6.attention.output.LayerNorm.weight', 'encoder.layer.7.attention.output.dense.weight', 'encoder.layer.21.attention.output.dense.bias', 'encoder.layer.2.attention.output.LayerNorm.weight', 'encoder.layer.2.attention.output.LayerNorm.bias', 'encoder.layer.1.attention.output.LayerNorm.bias', 'encoder.layer.1.attention.self.key.bias', 'encoder.layer.6.intermediate.dense.bias', 'encoder.layer.9.attention.output.LayerNorm.bias', 'encoder.layer.19.output.LayerNorm.bias', 'encoder.layer.12.output.dense.bias', 'encoder.layer.5.intermediate.dense.weight', 'encoder.layer.17.output.LayerNorm.weight', 'encoder.layer.5.attention.self.value.bias', 'encoder.layer.2.intermediate.dense.weight', 'encoder.layer.3.attention.self.key.weight', 'embeddings.position_embeddings.weight', 'encoder.layer.18.attention.output.dense.weight', 'encoder.layer.19.attention.output.dense.bias', 'encoder.layer.14.attention.output.LayerNorm.weight', 'encoder.layer.4.output.dense.weight', 'encoder.layer.2.attention.self.query.weight', 'encoder.layer.1.attention.self.key.weight', 'encoder.layer.5.output.LayerNorm.bias', 'encoder.layer.16.attention.output.dense.weight', 'encoder.layer.0.output.dense.weight', 'encoder.layer.10.attention.self.value.bias', 'encoder.layer.23.attention.self.query.bias', 'encoder.layer.0.output.dense.bias', 'encoder.layer.11.intermediate.dense.weight', 'encoder.layer.6.attention.self.query.bias', 'encoder.layer.8.intermediate.dense.bias', 'encoder.layer.15.attention.output.dense.weight', 'encoder.layer.13.attention.self.value.weight', 'encoder.layer.9.attention.output.dense.bias', 'encoder.layer.3.intermediate.dense.bias', 'encoder.layer.8.output.dense.weight', 'encoder.layer.19.attention.output.LayerNorm.weight', 'encoder.layer.18.attention.self.value.bias', 'encoder.layer.13.attention.output.dense.weight', 'encoder.layer.21.attention.output.LayerNorm.bias', 'encoder.layer.6.output.dense.bias', 'encoder.layer.15.output.LayerNorm.weight', 'encoder.layer.11.output.LayerNorm.bias', 'encoder.layer.16.attention.output.LayerNorm.bias', 'encoder.layer.2.intermediate.dense.bias', 'encoder.layer.12.attention.output.dense.weight', 'encoder.layer.11.attention.self.value.bias', 'encoder.layer.14.attention.self.key.weight', 'encoder.layer.12.attention.output.LayerNorm.bias', 'encoder.layer.9.attention.self.value.weight', 'encoder.layer.8.intermediate.dense.weight', 'encoder.layer.8.attention.output.LayerNorm.weight', 'encoder.layer.13.attention.self.key.bias', 'encoder.layer.21.attention.output.dense.weight', 'encoder.layer.4.attention.self.key.weight', 'encoder.layer.7.attention.self.key.weight', 'encoder.layer.1.attention.self.query.bias', 'encoder.layer.14.output.dense.bias', 'encoder.layer.11.attention.self.key.bias', 'encoder.layer.16.attention.output.dense.bias', 'encoder.layer.12.attention.output.dense.bias', 'encoder.layer.2.attention.self.value.weight', 'encoder.layer.16.output.LayerNorm.weight', 'encoder.layer.7.intermediate.dense.bias', 'encoder.layer.17.attention.self.key.weight', 'encoder.layer.10.attention.output.dense.weight', 'encoder.layer.6.intermediate.dense.weight', 'encoder.layer.9.attention.self.query.weight', 'encoder.layer.14.attention.output.dense.bias', 'encoder.layer.10.attention.self.query.weight', 'encoder.layer.15.attention.self.value.weight', 'encoder.layer.10.attention.self.key.weight', 'encoder.layer.15.attention.self.value.bias', 'encoder.layer.14.intermediate.dense.bias', 'encoder.layer.5.attention.self.value.weight', 'encoder.layer.0.attention.self.query.bias', 'encoder.layer.16.attention.output.LayerNorm.weight', 'encoder.layer.0.attention.self.value.weight', 'encoder.layer.17.attention.output.dense.weight', 'encoder.layer.23.attention.self.value.weight', 'encoder.layer.8.attention.self.query.weight', 'encoder.layer.2.attention.self.key.weight', 'encoder.layer.3.intermediate.dense.weight', 'encoder.layer.4.output.dense.bias', 'encoder.layer.9.output.dense.weight', 'encoder.layer.23.attention.self.value.bias', 'encoder.layer.22.output.dense.weight', 'encoder.layer.19.attention.output.LayerNorm.bias', 'encoder.layer.18.intermediate.dense.weight', 'encoder.layer.20.attention.self.key.weight', 'embeddings.word_embeddings.weight', 'encoder.layer.0.output.LayerNorm.weight', 'encoder.layer.12.intermediate.dense.bias', 'encoder.layer.5.attention.output.LayerNorm.weight', 'encoder.layer.8.attention.output.LayerNorm.bias', 'encoder.layer.19.output.dense.bias', 'encoder.layer.13.intermediate.dense.bias', 'encoder.layer.13.attention.output.dense.bias', 'encoder.layer.2.output.LayerNorm.weight', 'encoder.layer.15.attention.self.query.weight', 'encoder.layer.21.attention.self.value.weight', 'encoder.layer.23.output.dense.weight', 'encoder.layer.11.attention.self.query.bias', 'encoder.layer.18.attention.output.dense.bias', 'encoder.layer.0.attention.output.dense.bias', 'encoder.layer.19.output.dense.weight', 'encoder.layer.21.attention.self.key.weight', 'encoder.layer.7.attention.self.value.bias', 'encoder.layer.5.attention.self.key.bias', 'encoder.layer.19.attention.self.query.weight', 'embeddings.LayerNorm.bias', 'encoder.layer.5.attention.output.LayerNorm.bias', 'encoder.layer.2.output.LayerNorm.bias', 'encoder.layer.15.attention.self.key.bias', 'encoder.layer.19.attention.self.query.bias', 'encoder.layer.13.attention.output.LayerNorm.bias', 'encoder.layer.10.attention.self.query.bias', 'encoder.layer.9.intermediate.dense.bias', 'encoder.layer.10.output.dense.weight', 'encoder.layer.13.output.LayerNorm.weight', 'encoder.layer.17.attention.output.dense.bias', 'encoder.layer.21.output.LayerNorm.weight', 'encoder.layer.22.attention.self.query.weight', 'encoder.layer.2.attention.output.dense.bias', 'encoder.layer.14.output.dense.weight', 'encoder.layer.1.attention.output.dense.weight', 'encoder.layer.19.attention.self.key.weight', 'encoder.layer.19.intermediate.dense.bias', 'encoder.layer.6.output.LayerNorm.bias', 'encoder.layer.5.output.dense.bias', 'encoder.layer.6.attention.output.LayerNorm.bias', 'encoder.layer.21.intermediate.dense.weight', 'encoder.layer.6.attention.self.value.weight', 'encoder.layer.10.attention.self.value.weight', 'encoder.layer.13.intermediate.dense.weight', 'encoder.layer.15.attention.self.query.bias', 'encoder.layer.10.intermediate.dense.weight', 'encoder.layer.17.output.LayerNorm.bias', 'encoder.layer.4.intermediate.dense.bias', 'encoder.layer.20.output.dense.weight', 'encoder.layer.3.attention.self.value.weight', 'encoder.layer.3.output.LayerNorm.weight', 'encoder.layer.6.attention.output.dense.weight', 'encoder.layer.11.attention.output.dense.weight', 'encoder.layer.16.output.LayerNorm.bias', 'encoder.layer.15.attention.output.LayerNorm.bias', 'encoder.layer.8.attention.self.query.bias', 'encoder.layer.15.intermediate.dense.weight', 'encoder.layer.11.output.dense.weight', 'encoder.layer.12.attention.self.key.bias', 'encoder.layer.20.intermediate.dense.bias', 'encoder.layer.1.output.dense.bias', 'encoder.layer.13.attention.self.query.bias', 'encoder.layer.13.attention.self.query.weight', 'encoder.layer.21.output.LayerNorm.bias', 'encoder.layer.5.attention.self.query.weight', 'classifier.weight', 'encoder.layer.21.attention.output.LayerNorm.weight', 'encoder.layer.23.attention.output.dense.bias', 'encoder.layer.10.attention.output.LayerNorm.bias', 'encoder.layer.18.output.LayerNorm.weight', 'encoder.layer.12.attention.self.value.bias', 'encoder.layer.4.attention.output.dense.weight', 'encoder.layer.22.attention.self.key.bias', 'encoder.layer.0.attention.output.LayerNorm.bias', 'encoder.layer.14.attention.self.value.bias', 'encoder.layer.4.attention.self.query.bias', 'encoder.layer.8.output.LayerNorm.weight', 'encoder.layer.18.attention.self.query.bias', 'encoder.layer.5.attention.self.key.weight', 'encoder.layer.8.attention.output.dense.bias', 'encoder.layer.4.attention.self.value.weight', 'encoder.layer.9.attention.self.key.weight', 'encoder.layer.21.intermediate.dense.bias', 'encoder.layer.19.attention.self.value.weight', 'encoder.layer.22.attention.output.dense.bias', 'encoder.layer.16.attention.self.query.weight', 'encoder.layer.20.attention.self.value.weight', 'encoder.layer.4.output.LayerNorm.bias', 'encoder.layer.3.output.dense.bias', 'encoder.layer.7.output.dense.weight', 'encoder.layer.20.attention.output.LayerNorm.bias', 'encoder.layer.2.attention.self.value.bias', 'encoder.layer.10.intermediate.dense.bias', 'encoder.layer.4.attention.self.key.bias', 'encoder.layer.10.attention.output.dense.bias', 'encoder.layer.12.attention.self.key.weight', 'classifier.bias', 'encoder.layer.6.attention.self.query.weight', 'encoder.layer.9.output.dense.bias', 'encoder.layer.4.attention.self.value.bias', 'encoder.layer.22.attention.output.dense.weight', 'encoder.layer.0.intermediate.dense.weight', 'encoder.layer.18.attention.output.LayerNorm.bias', 'encoder.layer.20.attention.self.value.bias', 'encoder.layer.21.attention.self.value.bias', 'encoder.layer.3.attention.output.dense.weight', 'encoder.layer.4.attention.output.dense.bias', 'encoder.layer.10.output.LayerNorm.weight', 'encoder.layer.14.attention.self.value.weight', 'encoder.layer.12.attention.self.query.bias', 'encoder.layer.17.attention.self.value.weight', 'encoder.layer.21.attention.self.key.bias', 'encoder.layer.20.attention.self.query.bias', 'encoder.layer.22.intermediate.dense.weight', 'encoder.layer.19.attention.output.dense.weight', 'encoder.layer.7.attention.self.key.bias', 'encoder.layer.17.output.dense.weight', 'encoder.layer.7.attention.self.query.bias', 'encoder.layer.3.output.LayerNorm.bias', 'encoder.layer.22.output.dense.bias', 'encoder.layer.6.attention.self.key.bias', 'encoder.layer.13.output.dense.weight', 'encoder.layer.8.attention.self.key.bias', 'encoder.layer.18.output.LayerNorm.bias', 'encoder.layer.6.output.dense.weight', 'encoder.layer.22.attention.self.value.bias', 'encoder.layer.7.output.LayerNorm.weight', 'encoder.layer.15.intermediate.dense.bias']\n",
            "You should probably TRAIN this model on a down-stream task to be able to use it for predictions and inference.\n"
          ]
        }
      ],
      "source": [
        "tokenizer = BertTokenizer.from_pretrained(\"hfl/chinese-roberta-wwm-ext-large\")\n",
        "model = RobertaForTokenClassification.from_pretrained(\"hfl/chinese-roberta-wwm-ext-large\", num_labels=data_processor.num_labels)"
      ]
    },
    {
      "cell_type": "code",
      "execution_count": null,
      "metadata": {
        "id": "X1mjhObSCw5D"
      },
      "outputs": [],
      "source": [
        "train_dataset = EEDataset(train_samples, data_processor, tokenizer=tokenizer, mode='train', model_type = 'roberta', max_length=128)\n",
        "eval_dataset = EEDataset(eval_samples, data_processor, tokenizer=tokenizer, mode='eval', model_type = 'roberta', max_length=128)\n",
        "test_dataset = EEDataset(test_samples, data_processor, tokenizer=tokenizer, mode='test', model_type = 'roberta', max_length=128)\n"
      ]
    },
    {
      "cell_type": "markdown",
      "metadata": {
        "id": "9RhR3Emdpyh-"
      },
      "source": [
        "Гиперпараметры"
      ]
    },
    {
      "cell_type": "code",
      "execution_count": null,
      "metadata": {
        "id": "ZDIHhIu0IX5V"
      },
      "outputs": [],
      "source": [
        "logger = init_logger('test.txt')\n",
        "device = torch.device(\"cuda\" if torch.cuda.is_available() else \"cpu\")\n",
        "\n",
        "class Args:\n",
        "  def __init__(self):\n",
        "    self.model_type = \"roberta\"\n",
        "    self.model_dir = \"hfl/chinese-roberta-wwm-ext-large\"\n",
        "    self.model_name = \"chinese-roberta-wwm-ext-large\"\n",
        "    self.output_dir = \"/content/output\"\n",
        "    self.result_output_dir = \"/content/output_result\"\n",
        "    self.task_name =  \"ee\"\n",
        "    self.device = device\n",
        "    self.train_batch_size = 24\n",
        "    self.eval_batch_size = 24\n",
        "    self.epochs = 3\n",
        "    self.warmup_proportion = 0.1\n",
        "    self.weight_decay = 0.01\n",
        "    self.learning_rate = 2e-5\n",
        "    self.adam_epsilon = 1e-8\n",
        "    self.max_grad_norm = 1.0\n",
        "    self.max_length = 128\n",
        "    self.task_name = \"ee\"\n",
        "    self.logging_steps = 50\n",
        "    self.earlystop_patience = 10\n",
        "    self.return_dict = False"
      ]
    },
    {
      "cell_type": "code",
      "execution_count": null,
      "metadata": {
        "id": "BddT2gpxfs2H"
      },
      "outputs": [],
      "source": [
        "args = Args()"
      ]
    },
    {
      "cell_type": "code",
      "execution_count": null,
      "metadata": {
        "id": "kQYenDAd3Q5l"
      },
      "outputs": [],
      "source": [
        "!pip install -Uqq ipdb\n",
        "import ipdb"
      ]
    },
    {
      "cell_type": "code",
      "execution_count": null,
      "metadata": {
        "id": "fkPJbEbr3T3b"
      },
      "outputs": [],
      "source": [
        "%pdb on"
      ]
    },
    {
      "cell_type": "markdown",
      "source": [
        "# Тренировка модели"
      ],
      "metadata": {
        "id": "DsjpJeQec6_A"
      }
    },
    {
      "cell_type": "code",
      "execution_count": null,
      "metadata": {
        "colab": {
          "base_uri": "https://localhost:8080/"
        },
        "id": "cTpWuI7jEPZJ",
        "outputId": "37d11ece-ff30-4acd-d2d2-2169602d25b7"
      },
      "outputs": [
        {
          "output_type": "stream",
          "name": "stderr",
          "text": [
            "/usr/local/lib/python3.10/dist-packages/transformers/optimization.py:407: FutureWarning: This implementation of AdamW is deprecated and will be removed in a future version. Use the PyTorch implementation torch.optim.AdamW instead, or set `no_deprecation_warning=True` to disable this warning\n",
            "  warnings.warn(\n",
            "06/07/2023 18:25:48 - INFO - root -   ***** Running training *****\n",
            "06/07/2023 18:25:48 - INFO - root -   Num samples 23025\n",
            "06/07/2023 18:25:48 - INFO - root -   Num epochs 3\n",
            "06/07/2023 18:25:48 - INFO - root -   Num training steps 2880\n",
            "06/07/2023 18:25:48 - INFO - root -   Num warmup steps 288\n"
          ]
        },
        {
          "output_type": "stream",
          "name": "stdout",
          "text": [
            "[Training] 49/960 [>.............................] - ETA: 24:14  loss: 1.4310 "
          ]
        },
        {
          "output_type": "stream",
          "name": "stderr",
          "text": [
            "06/07/2023 18:27:08 - INFO - root -   ***** Running evaluation *****\n",
            "06/07/2023 18:27:08 - INFO - root -   Num samples 5000\n"
          ]
        },
        {
          "output_type": "stream",
          "name": "stdout",
          "text": [
            "\r[Training] 50/960 [>.............................] - ETA: 24:12  loss: 1.5365 \n"
          ]
        },
        {
          "output_type": "stream",
          "name": "stderr",
          "text": [
            "06/07/2023 18:28:50 - INFO - root -   ee-chinese-roberta-wwm-ext-large precision: 0.6085872639531604 - recall: 0.6085872639531604 - f1 score: 0.6085872639531604\n",
            "06/07/2023 18:28:55 - INFO - root -   Saving models checkpoint to /content/output/checkpoint-50\n"
          ]
        },
        {
          "output_type": "stream",
          "name": "stdout",
          "text": [
            "[Training] 99/960 [==>...........................] - ETA: 38:20  loss: 1.0016 "
          ]
        },
        {
          "output_type": "stream",
          "name": "stderr",
          "text": [
            "06/07/2023 18:30:14 - INFO - root -   ***** Running evaluation *****\n",
            "06/07/2023 18:30:14 - INFO - root -   Num samples 5000\n"
          ]
        },
        {
          "output_type": "stream",
          "name": "stdout",
          "text": [
            "\r[Training] 100/960 [==>...........................] - ETA: 38:08  loss: 1.2494 \n"
          ]
        },
        {
          "output_type": "stream",
          "name": "stderr",
          "text": [
            "06/07/2023 18:31:57 - INFO - root -   ee-chinese-roberta-wwm-ext-large precision: 0.6085872639531604 - recall: 0.6085872639531604 - f1 score: 0.6085872639531604\n",
            "06/07/2023 18:31:57 - INFO - root -   Earlystopper counter: 1 out of 10\n"
          ]
        },
        {
          "output_type": "stream",
          "name": "stdout",
          "text": [
            "[Training] 149/960 [===>..........................] - ETA: 40:30  loss: 1.1922 "
          ]
        },
        {
          "output_type": "stream",
          "name": "stderr",
          "text": [
            "06/07/2023 18:33:16 - INFO - root -   ***** Running evaluation *****\n",
            "06/07/2023 18:33:16 - INFO - root -   Num samples 5000\n"
          ]
        },
        {
          "output_type": "stream",
          "name": "stdout",
          "text": [
            "\r[Training] 150/960 [===>..........................] - ETA: 40:19  loss: 1.1525 \n"
          ]
        },
        {
          "output_type": "stream",
          "name": "stderr",
          "text": [
            "06/07/2023 18:34:59 - INFO - root -   ee-chinese-roberta-wwm-ext-large precision: 0.6095554657660611 - recall: 0.6095554657660611 - f1 score: 0.6095554657660611\n",
            "06/07/2023 18:35:09 - INFO - root -   Saving models checkpoint to /content/output/checkpoint-150\n"
          ]
        },
        {
          "output_type": "stream",
          "name": "stdout",
          "text": [
            "[Training] 199/960 [=====>........................] - ETA: 40:42  loss: 1.1691 "
          ]
        },
        {
          "output_type": "stream",
          "name": "stderr",
          "text": [
            "06/07/2023 18:36:28 - INFO - root -   ***** Running evaluation *****\n",
            "06/07/2023 18:36:28 - INFO - root -   Num samples 5000\n"
          ]
        },
        {
          "output_type": "stream",
          "name": "stdout",
          "text": [
            "\r[Training] 200/960 [=====>........................] - ETA: 40:32  loss: 1.0206 \n"
          ]
        },
        {
          "output_type": "stream",
          "name": "stderr",
          "text": [
            "06/07/2023 18:38:11 - INFO - root -   ee-chinese-roberta-wwm-ext-large precision: 0.6126011084767212 - recall: 0.6126011084767212 - f1 score: 0.6126011084767212\n",
            "06/07/2023 18:38:17 - INFO - root -   Saving models checkpoint to /content/output/checkpoint-200\n"
          ]
        },
        {
          "output_type": "stream",
          "name": "stdout",
          "text": [
            "[Training] 249/960 [======>.......................] - ETA: 39:21  loss: 1.0919 "
          ]
        },
        {
          "output_type": "stream",
          "name": "stderr",
          "text": [
            "06/07/2023 18:39:37 - INFO - root -   ***** Running evaluation *****\n",
            "06/07/2023 18:39:37 - INFO - root -   Num samples 5000\n"
          ]
        },
        {
          "output_type": "stream",
          "name": "stdout",
          "text": [
            "\r[Training] 250/960 [======>.......................] - ETA: 39:12  loss: 0.9523 \n"
          ]
        },
        {
          "output_type": "stream",
          "name": "stderr",
          "text": [
            "06/07/2023 18:41:19 - INFO - root -   ee-chinese-roberta-wwm-ext-large precision: 0.620342911161766 - recall: 0.620342911161766 - f1 score: 0.620342911161766\n",
            "06/07/2023 18:41:33 - INFO - root -   Saving models checkpoint to /content/output/checkpoint-250\n"
          ]
        },
        {
          "output_type": "stream",
          "name": "stdout",
          "text": [
            "[Training] 299/960 [========>.....................] - ETA: 37:41  loss: 1.2981 "
          ]
        },
        {
          "output_type": "stream",
          "name": "stderr",
          "text": [
            "06/07/2023 18:42:53 - INFO - root -   ***** Running evaluation *****\n",
            "06/07/2023 18:42:53 - INFO - root -   Num samples 5000\n"
          ]
        },
        {
          "output_type": "stream",
          "name": "stdout",
          "text": [
            "\r[Training] 300/960 [========>.....................] - ETA: 37:33  loss: 1.0530 \n"
          ]
        },
        {
          "output_type": "stream",
          "name": "stderr",
          "text": [
            "06/07/2023 18:44:35 - INFO - root -   ee-chinese-roberta-wwm-ext-large precision: 0.6086558766800588 - recall: 0.6086558766800588 - f1 score: 0.6086558766800588\n",
            "06/07/2023 18:44:35 - INFO - root -   Earlystopper counter: 1 out of 10\n"
          ]
        },
        {
          "output_type": "stream",
          "name": "stdout",
          "text": [
            "[Training] 349/960 [=========>....................] - ETA: 35:09  loss: 1.0920 "
          ]
        },
        {
          "output_type": "stream",
          "name": "stderr",
          "text": [
            "06/07/2023 18:45:55 - INFO - root -   ***** Running evaluation *****\n",
            "06/07/2023 18:45:55 - INFO - root -   Num samples 5000\n"
          ]
        },
        {
          "output_type": "stream",
          "name": "stdout",
          "text": [
            "\r[Training] 350/960 [=========>....................] - ETA: 35:03  loss: 0.9287 \n"
          ]
        },
        {
          "output_type": "stream",
          "name": "stderr",
          "text": [
            "06/07/2023 18:47:37 - INFO - root -   ee-chinese-roberta-wwm-ext-large precision: 0.6115871648458882 - recall: 0.6115871648458882 - f1 score: 0.6115871648458882\n",
            "06/07/2023 18:47:37 - INFO - root -   Earlystopper counter: 2 out of 10\n"
          ]
        },
        {
          "output_type": "stream",
          "name": "stdout",
          "text": [
            "[Training] 399/960 [===========>..................] - ETA: 32:30  loss: 0.6528 "
          ]
        },
        {
          "output_type": "stream",
          "name": "stderr",
          "text": [
            "06/07/2023 18:48:57 - INFO - root -   ***** Running evaluation *****\n",
            "06/07/2023 18:48:57 - INFO - root -   Num samples 5000\n"
          ]
        },
        {
          "output_type": "stream",
          "name": "stdout",
          "text": [
            "\r[Training] 400/960 [===========>..................] - ETA: 32:23  loss: 1.2090 \n"
          ]
        },
        {
          "output_type": "stream",
          "name": "stderr",
          "text": [
            "06/07/2023 18:50:39 - INFO - root -   ee-chinese-roberta-wwm-ext-large precision: 0.6140953411958436 - recall: 0.6140953411958436 - f1 score: 0.6140953411958436\n",
            "06/07/2023 18:50:39 - INFO - root -   Earlystopper counter: 3 out of 10\n"
          ]
        },
        {
          "output_type": "stream",
          "name": "stdout",
          "text": [
            "[Training] 449/960 [=============>................] - ETA: 29:45  loss: 0.9786 "
          ]
        },
        {
          "output_type": "stream",
          "name": "stderr",
          "text": [
            "06/07/2023 18:51:59 - INFO - root -   ***** Running evaluation *****\n",
            "06/07/2023 18:51:59 - INFO - root -   Num samples 5000\n"
          ]
        },
        {
          "output_type": "stream",
          "name": "stdout",
          "text": [
            "\r[Training] 450/960 [=============>................] - ETA: 29:39  loss: 0.8776 \n"
          ]
        },
        {
          "output_type": "stream",
          "name": "stderr",
          "text": [
            "06/07/2023 18:53:41 - INFO - root -   ee-chinese-roberta-wwm-ext-large precision: 0.622523271149873 - recall: 0.622523271149873 - f1 score: 0.622523271149873\n",
            "06/07/2023 18:53:59 - INFO - root -   Saving models checkpoint to /content/output/checkpoint-450\n"
          ]
        },
        {
          "output_type": "stream",
          "name": "stdout",
          "text": [
            "[Training] 499/960 [==============>...............] - ETA: 27:14  loss: 0.7592 "
          ]
        },
        {
          "output_type": "stream",
          "name": "stderr",
          "text": [
            "06/07/2023 18:55:19 - INFO - root -   ***** Running evaluation *****\n",
            "06/07/2023 18:55:19 - INFO - root -   Num samples 5000\n"
          ]
        },
        {
          "output_type": "stream",
          "name": "stdout",
          "text": [
            "\r[Training] 500/960 [==============>...............] - ETA: 27:09  loss: 0.5927 \n"
          ]
        },
        {
          "output_type": "stream",
          "name": "stderr",
          "text": [
            "06/07/2023 18:57:02 - INFO - root -   ee-chinese-roberta-wwm-ext-large precision: 0.631309512011039 - recall: 0.631309512011039 - f1 score: 0.631309512011039\n",
            "06/07/2023 18:57:14 - INFO - root -   Saving models checkpoint to /content/output/checkpoint-500\n"
          ]
        },
        {
          "output_type": "stream",
          "name": "stdout",
          "text": [
            "[Training] 549/960 [================>.............] - ETA: 24:30  loss: 0.8555 "
          ]
        },
        {
          "output_type": "stream",
          "name": "stderr",
          "text": [
            "06/07/2023 18:58:34 - INFO - root -   ***** Running evaluation *****\n",
            "06/07/2023 18:58:34 - INFO - root -   Num samples 5000\n"
          ]
        },
        {
          "output_type": "stream",
          "name": "stdout",
          "text": [
            "\r[Training] 550/960 [================>.............] - ETA: 24:25  loss: 0.8316 \n"
          ]
        },
        {
          "output_type": "stream",
          "name": "stderr",
          "text": [
            "06/07/2023 19:00:17 - INFO - root -   ee-chinese-roberta-wwm-ext-large precision: 0.6221420893337705 - recall: 0.6221420893337705 - f1 score: 0.6221420893337705\n",
            "06/07/2023 19:00:17 - INFO - root -   Earlystopper counter: 1 out of 10\n"
          ]
        },
        {
          "output_type": "stream",
          "name": "stdout",
          "text": [
            "[Training] 599/960 [=================>............] - ETA: 21:33  loss: 0.9156 "
          ]
        },
        {
          "output_type": "stream",
          "name": "stderr",
          "text": [
            "06/07/2023 19:01:36 - INFO - root -   ***** Running evaluation *****\n",
            "06/07/2023 19:01:36 - INFO - root -   Num samples 5000\n"
          ]
        },
        {
          "output_type": "stream",
          "name": "stdout",
          "text": [
            "\r[Training] 600/960 [=================>............] - ETA: 21:28  loss: 1.1562 \n"
          ]
        },
        {
          "output_type": "stream",
          "name": "stderr",
          "text": [
            "06/07/2023 19:03:18 - INFO - root -   ee-chinese-roberta-wwm-ext-large precision: 0.5564492151466407 - recall: 0.5564492151466407 - f1 score: 0.5564492151466407\n",
            "06/07/2023 19:03:18 - INFO - root -   Earlystopper counter: 2 out of 10\n"
          ]
        },
        {
          "output_type": "stream",
          "name": "stdout",
          "text": [
            "[Training] 649/960 [===================>..........] - ETA: 18:35  loss: 1.2220 "
          ]
        },
        {
          "output_type": "stream",
          "name": "stderr",
          "text": [
            "06/07/2023 19:04:38 - INFO - root -   ***** Running evaluation *****\n",
            "06/07/2023 19:04:38 - INFO - root -   Num samples 5000\n"
          ]
        },
        {
          "output_type": "stream",
          "name": "stdout",
          "text": [
            "\r[Training] 650/960 [===================>..........] - ETA: 18:31  loss: 0.7362 \n"
          ]
        },
        {
          "output_type": "stream",
          "name": "stderr",
          "text": [
            "06/07/2023 19:06:20 - INFO - root -   ee-chinese-roberta-wwm-ext-large precision: 0.6047563867013288 - recall: 0.6047563867013288 - f1 score: 0.6047563867013288\n",
            "06/07/2023 19:06:20 - INFO - root -   Earlystopper counter: 3 out of 10\n"
          ]
        },
        {
          "output_type": "stream",
          "name": "stdout",
          "text": [
            "[Training] 699/960 [====================>.........] - ETA: 15:37  loss: 0.7726 "
          ]
        },
        {
          "output_type": "stream",
          "name": "stderr",
          "text": [
            "06/07/2023 19:07:40 - INFO - root -   ***** Running evaluation *****\n",
            "06/07/2023 19:07:40 - INFO - root -   Num samples 5000\n"
          ]
        },
        {
          "output_type": "stream",
          "name": "stdout",
          "text": [
            "\r[Training] 700/960 [====================>.........] - ETA: 15:32  loss: 0.8280 \n"
          ]
        },
        {
          "output_type": "stream",
          "name": "stderr",
          "text": [
            "06/07/2023 19:09:22 - INFO - root -   ee-chinese-roberta-wwm-ext-large precision: 0.6353042974437948 - recall: 0.6353042974437948 - f1 score: 0.6353042974437948\n",
            "06/07/2023 19:09:32 - INFO - root -   Saving models checkpoint to /content/output/checkpoint-700\n"
          ]
        },
        {
          "output_type": "stream",
          "name": "stdout",
          "text": [
            "[Training] 749/960 [======================>.......] - ETA: 12:41  loss: 0.7630 "
          ]
        },
        {
          "output_type": "stream",
          "name": "stderr",
          "text": [
            "06/07/2023 19:10:52 - INFO - root -   ***** Running evaluation *****\n",
            "06/07/2023 19:10:52 - INFO - root -   Num samples 5000\n"
          ]
        },
        {
          "output_type": "stream",
          "name": "stdout",
          "text": [
            "\r[Training] 750/960 [======================>.......] - ETA: 12:36  loss: 0.9374 \n"
          ]
        },
        {
          "output_type": "stream",
          "name": "stderr",
          "text": [
            "06/07/2023 19:12:34 - INFO - root -   ee-chinese-roberta-wwm-ext-large precision: 0.6360895319849662 - recall: 0.6360895319849662 - f1 score: 0.6360895319849662\n",
            "06/07/2023 19:12:47 - INFO - root -   Saving models checkpoint to /content/output/checkpoint-750\n"
          ]
        },
        {
          "output_type": "stream",
          "name": "stdout",
          "text": [
            "[Training] 799/960 [=======================>......] - ETA: 9:43  loss: 0.5026 "
          ]
        },
        {
          "output_type": "stream",
          "name": "stderr",
          "text": [
            "06/07/2023 19:14:06 - INFO - root -   ***** Running evaluation *****\n",
            "06/07/2023 19:14:06 - INFO - root -   Num samples 5000\n"
          ]
        },
        {
          "output_type": "stream",
          "name": "stdout",
          "text": [
            "\r[Training] 800/960 [========================>.....] - ETA: 9:39  loss: 0.7894 \n"
          ]
        },
        {
          "output_type": "stream",
          "name": "stderr",
          "text": [
            "06/07/2023 19:15:49 - INFO - root -   ee-chinese-roberta-wwm-ext-large precision: 0.6400500110542726 - recall: 0.6400500110542726 - f1 score: 0.6400500110542726\n",
            "06/07/2023 19:15:59 - INFO - root -   Saving models checkpoint to /content/output/checkpoint-800\n"
          ]
        },
        {
          "output_type": "stream",
          "name": "stdout",
          "text": [
            "[Training] 849/960 [=========================>....] - ETA: 6:43  loss: 0.7444 "
          ]
        },
        {
          "output_type": "stream",
          "name": "stderr",
          "text": [
            "06/07/2023 19:17:18 - INFO - root -   ***** Running evaluation *****\n",
            "06/07/2023 19:17:18 - INFO - root -   Num samples 5000\n"
          ]
        },
        {
          "output_type": "stream",
          "name": "stdout",
          "text": [
            "\r[Training] 850/960 [=========================>....] - ETA: 6:39  loss: 0.8288 \n"
          ]
        },
        {
          "output_type": "stream",
          "name": "stderr",
          "text": [
            "06/07/2023 19:19:01 - INFO - root -   ee-chinese-roberta-wwm-ext-large precision: 0.6361543328937036 - recall: 0.6361543328937036 - f1 score: 0.6361543328937036\n",
            "06/07/2023 19:19:01 - INFO - root -   Earlystopper counter: 1 out of 10\n"
          ]
        },
        {
          "output_type": "stream",
          "name": "stdout",
          "text": [
            "[Training] 899/960 [===========================>..] - ETA: 3:41  loss: 0.6139 "
          ]
        },
        {
          "output_type": "stream",
          "name": "stderr",
          "text": [
            "06/07/2023 19:20:21 - INFO - root -   ***** Running evaluation *****\n",
            "06/07/2023 19:20:21 - INFO - root -   Num samples 5000\n"
          ]
        },
        {
          "output_type": "stream",
          "name": "stdout",
          "text": [
            "\r[Training] 900/960 [===========================>..] - ETA: 3:38  loss: 0.6066 \n"
          ]
        },
        {
          "output_type": "stream",
          "name": "stderr",
          "text": [
            "06/07/2023 19:22:03 - INFO - root -   ee-chinese-roberta-wwm-ext-large precision: 0.6500064800908737 - recall: 0.6500064800908737 - f1 score: 0.6500064800908737\n",
            "06/07/2023 19:22:13 - INFO - root -   Saving models checkpoint to /content/output/checkpoint-900\n"
          ]
        },
        {
          "output_type": "stream",
          "name": "stdout",
          "text": [
            "[Training] 949/960 [============================>.] - ETA: 40s  loss: 0.8863 "
          ]
        },
        {
          "output_type": "stream",
          "name": "stderr",
          "text": [
            "06/07/2023 19:23:32 - INFO - root -   ***** Running evaluation *****\n",
            "06/07/2023 19:23:32 - INFO - root -   Num samples 5000\n"
          ]
        },
        {
          "output_type": "stream",
          "name": "stdout",
          "text": [
            "\r[Training] 950/960 [============================>.] - ETA: 36s  loss: 0.5313 \n"
          ]
        },
        {
          "output_type": "stream",
          "name": "stderr",
          "text": [
            "06/07/2023 19:25:15 - INFO - root -   ee-chinese-roberta-wwm-ext-large precision: 0.643126148310221 - recall: 0.643126148310221 - f1 score: 0.643126148310221\n",
            "06/07/2023 19:25:15 - INFO - root -   Earlystopper counter: 1 out of 10\n"
          ]
        },
        {
          "output_type": "stream",
          "name": "stdout",
          "text": [
            "[Training] 39/960 [>.............................] - ETA: 24:17  loss: 0.3808 "
          ]
        },
        {
          "output_type": "stream",
          "name": "stderr",
          "text": [
            "06/07/2023 19:26:34 - INFO - root -   ***** Running evaluation *****\n",
            "06/07/2023 19:26:34 - INFO - root -   Num samples 5000\n"
          ]
        },
        {
          "output_type": "stream",
          "name": "stdout",
          "text": [
            "\r[Training] 40/960 [>.............................] - ETA: 24:17  loss: 0.3838 \n"
          ]
        },
        {
          "output_type": "stream",
          "name": "stderr",
          "text": [
            "06/07/2023 19:28:17 - INFO - root -   ee-chinese-roberta-wwm-ext-large precision: 0.6357045383507025 - recall: 0.6357045383507025 - f1 score: 0.6357045383507025\n",
            "06/07/2023 19:28:17 - INFO - root -   Earlystopper counter: 2 out of 10\n"
          ]
        },
        {
          "output_type": "stream",
          "name": "stdout",
          "text": [
            "[Training] 89/960 [=>............................] - ETA: 39:50  loss: 1.0954 "
          ]
        },
        {
          "output_type": "stream",
          "name": "stderr",
          "text": [
            "06/07/2023 19:29:36 - INFO - root -   ***** Running evaluation *****\n",
            "06/07/2023 19:29:36 - INFO - root -   Num samples 5000\n"
          ]
        },
        {
          "output_type": "stream",
          "name": "stdout",
          "text": [
            "\r[Training] 90/960 [=>............................] - ETA: 39:36  loss: 0.8475 \n"
          ]
        },
        {
          "output_type": "stream",
          "name": "stderr",
          "text": [
            "06/07/2023 19:31:19 - INFO - root -   ee-chinese-roberta-wwm-ext-large precision: 0.6466940101089418 - recall: 0.6466940101089418 - f1 score: 0.6466940101089418\n",
            "06/07/2023 19:31:19 - INFO - root -   Earlystopper counter: 3 out of 10\n"
          ]
        },
        {
          "output_type": "stream",
          "name": "stdout",
          "text": [
            "[Training] 139/960 [===>..........................] - ETA: 41:57  loss: 0.5538 "
          ]
        },
        {
          "output_type": "stream",
          "name": "stderr",
          "text": [
            "06/07/2023 19:32:38 - INFO - root -   ***** Running evaluation *****\n",
            "06/07/2023 19:32:38 - INFO - root -   Num samples 5000\n"
          ]
        },
        {
          "output_type": "stream",
          "name": "stdout",
          "text": [
            "\r[Training] 140/960 [===>..........................] - ETA: 41:45  loss: 1.0003 \n"
          ]
        },
        {
          "output_type": "stream",
          "name": "stderr",
          "text": [
            "06/07/2023 19:34:21 - INFO - root -   ee-chinese-roberta-wwm-ext-large precision: 0.6460498128397283 - recall: 0.6460498128397283 - f1 score: 0.6460498128397283\n",
            "06/07/2023 19:34:21 - INFO - root -   Earlystopper counter: 4 out of 10\n"
          ]
        },
        {
          "output_type": "stream",
          "name": "stdout",
          "text": [
            "[Training] 189/960 [====>.........................] - ETA: 41:19  loss: 0.7023 "
          ]
        },
        {
          "output_type": "stream",
          "name": "stderr",
          "text": [
            "06/07/2023 19:35:40 - INFO - root -   ***** Running evaluation *****\n",
            "06/07/2023 19:35:40 - INFO - root -   Num samples 5000\n"
          ]
        },
        {
          "output_type": "stream",
          "name": "stdout",
          "text": [
            "\r[Training] 190/960 [====>.........................] - ETA: 41:10  loss: 0.6816 \n"
          ]
        },
        {
          "output_type": "stream",
          "name": "stderr",
          "text": [
            "06/07/2023 19:37:22 - INFO - root -   ee-chinese-roberta-wwm-ext-large precision: 0.6486952146434807 - recall: 0.6486952146434807 - f1 score: 0.6486952146434807\n",
            "06/07/2023 19:37:22 - INFO - root -   Earlystopper counter: 5 out of 10\n"
          ]
        },
        {
          "output_type": "stream",
          "name": "stdout",
          "text": [
            "[Training] 239/960 [======>.......................] - ETA: 39:42  loss: 0.4473 "
          ]
        },
        {
          "output_type": "stream",
          "name": "stderr",
          "text": [
            "06/07/2023 19:38:42 - INFO - root -   ***** Running evaluation *****\n",
            "06/07/2023 19:38:42 - INFO - root -   Num samples 5000\n"
          ]
        },
        {
          "output_type": "stream",
          "name": "stdout",
          "text": [
            "\r[Training] 240/960 [======>.......................] - ETA: 39:34  loss: 0.6142 \n"
          ]
        },
        {
          "output_type": "stream",
          "name": "stderr",
          "text": [
            "06/07/2023 19:40:24 - INFO - root -   ee-chinese-roberta-wwm-ext-large precision: 0.6558881155133376 - recall: 0.6558881155133376 - f1 score: 0.6558881155133376\n",
            "06/07/2023 19:40:29 - INFO - root -   Saving models checkpoint to /content/output/checkpoint-1200\n"
          ]
        },
        {
          "output_type": "stream",
          "name": "stdout",
          "text": [
            "[Training] 289/960 [========>.....................] - ETA: 37:47  loss: 0.9875 "
          ]
        },
        {
          "output_type": "stream",
          "name": "stderr",
          "text": [
            "06/07/2023 19:41:48 - INFO - root -   ***** Running evaluation *****\n",
            "06/07/2023 19:41:48 - INFO - root -   Num samples 5000\n"
          ]
        },
        {
          "output_type": "stream",
          "name": "stdout",
          "text": [
            "\r[Training] 290/960 [========>.....................] - ETA: 37:39  loss: 0.5125 \n"
          ]
        },
        {
          "output_type": "stream",
          "name": "stderr",
          "text": [
            "06/07/2023 19:43:31 - INFO - root -   ee-chinese-roberta-wwm-ext-large precision: 0.6620289545707512 - recall: 0.6620289545707512 - f1 score: 0.6620289545707512\n",
            "06/07/2023 19:43:43 - INFO - root -   Saving models checkpoint to /content/output/checkpoint-1250\n"
          ]
        },
        {
          "output_type": "stream",
          "name": "stdout",
          "text": [
            "[Training] 339/960 [=========>....................] - ETA: 35:44  loss: 0.6781 "
          ]
        },
        {
          "output_type": "stream",
          "name": "stderr",
          "text": [
            "06/07/2023 19:45:02 - INFO - root -   ***** Running evaluation *****\n",
            "06/07/2023 19:45:02 - INFO - root -   Num samples 5000\n"
          ]
        },
        {
          "output_type": "stream",
          "name": "stdout",
          "text": [
            "\r[Training] 340/960 [=========>....................] - ETA: 35:37  loss: 0.7753 \n"
          ]
        },
        {
          "output_type": "stream",
          "name": "stderr",
          "text": [
            "06/07/2023 19:46:45 - INFO - root -   ee-chinese-roberta-wwm-ext-large precision: 0.6615867836640721 - recall: 0.6615867836640721 - f1 score: 0.6615867836640721\n",
            "06/07/2023 19:46:45 - INFO - root -   Earlystopper counter: 1 out of 10\n"
          ]
        },
        {
          "output_type": "stream",
          "name": "stdout",
          "text": [
            "[Training] 389/960 [===========>..................] - ETA: 33:05  loss: 0.6559 "
          ]
        },
        {
          "output_type": "stream",
          "name": "stderr",
          "text": [
            "06/07/2023 19:48:04 - INFO - root -   ***** Running evaluation *****\n",
            "06/07/2023 19:48:04 - INFO - root -   Num samples 5000\n"
          ]
        },
        {
          "output_type": "stream",
          "name": "stdout",
          "text": [
            "\r[Training] 390/960 [===========>..................] - ETA: 32:59  loss: 0.5353 \n"
          ]
        },
        {
          "output_type": "stream",
          "name": "stderr",
          "text": [
            "06/07/2023 19:49:47 - INFO - root -   ee-chinese-roberta-wwm-ext-large precision: 0.6650631618269283 - recall: 0.6650631618269283 - f1 score: 0.6650631618269283\n",
            "06/07/2023 19:50:01 - INFO - root -   Saving models checkpoint to /content/output/checkpoint-1350\n"
          ]
        },
        {
          "output_type": "stream",
          "name": "stdout",
          "text": [
            "[Training] 439/960 [============>.................] - ETA: 30:37  loss: 0.7880 "
          ]
        },
        {
          "output_type": "stream",
          "name": "stderr",
          "text": [
            "06/07/2023 19:51:20 - INFO - root -   ***** Running evaluation *****\n",
            "06/07/2023 19:51:20 - INFO - root -   Num samples 5000\n"
          ]
        },
        {
          "output_type": "stream",
          "name": "stdout",
          "text": [
            "\r[Training] 440/960 [============>.................] - ETA: 30:31  loss: 0.5657 \n"
          ]
        },
        {
          "output_type": "stream",
          "name": "stderr",
          "text": [
            "06/07/2023 19:53:03 - INFO - root -   ee-chinese-roberta-wwm-ext-large precision: 0.6635041281990683 - recall: 0.6635041281990683 - f1 score: 0.6635041281990683\n",
            "06/07/2023 19:53:03 - INFO - root -   Earlystopper counter: 1 out of 10\n"
          ]
        },
        {
          "output_type": "stream",
          "name": "stdout",
          "text": [
            "[Training] 489/960 [==============>...............] - ETA: 27:46  loss: 0.3980 "
          ]
        },
        {
          "output_type": "stream",
          "name": "stderr",
          "text": [
            "06/07/2023 19:54:22 - INFO - root -   ***** Running evaluation *****\n",
            "06/07/2023 19:54:22 - INFO - root -   Num samples 5000\n"
          ]
        },
        {
          "output_type": "stream",
          "name": "stdout",
          "text": [
            "\r[Training] 490/960 [==============>...............] - ETA: 27:41  loss: 0.5402 \n"
          ]
        },
        {
          "output_type": "stream",
          "name": "stderr",
          "text": [
            "06/07/2023 19:56:05 - INFO - root -   ee-chinese-roberta-wwm-ext-large precision: 0.6617773745721234 - recall: 0.6617773745721234 - f1 score: 0.6617773745721234\n",
            "06/07/2023 19:56:05 - INFO - root -   Earlystopper counter: 2 out of 10\n"
          ]
        },
        {
          "output_type": "stream",
          "name": "stdout",
          "text": [
            "[Training] 539/960 [===============>..............] - ETA: 24:53  loss: 0.7476 "
          ]
        },
        {
          "output_type": "stream",
          "name": "stderr",
          "text": [
            "06/07/2023 19:57:25 - INFO - root -   ***** Running evaluation *****\n",
            "06/07/2023 19:57:25 - INFO - root -   Num samples 5000\n"
          ]
        },
        {
          "output_type": "stream",
          "name": "stdout",
          "text": [
            "\r[Training] 540/960 [===============>..............] - ETA: 24:48  loss: 0.7931 \n"
          ]
        },
        {
          "output_type": "stream",
          "name": "stderr",
          "text": [
            "06/07/2023 19:59:07 - INFO - root -   ee-chinese-roberta-wwm-ext-large precision: 0.6641940672862142 - recall: 0.6641940672862142 - f1 score: 0.6641940672862142\n",
            "06/07/2023 19:59:07 - INFO - root -   Earlystopper counter: 3 out of 10\n"
          ]
        },
        {
          "output_type": "stream",
          "name": "stdout",
          "text": [
            "[Training] 589/960 [=================>............] - ETA: 21:59  loss: 0.5609 "
          ]
        },
        {
          "output_type": "stream",
          "name": "stderr",
          "text": [
            "06/07/2023 20:00:27 - INFO - root -   ***** Running evaluation *****\n",
            "06/07/2023 20:00:27 - INFO - root -   Num samples 5000\n"
          ]
        },
        {
          "output_type": "stream",
          "name": "stdout",
          "text": [
            "\r[Training] 590/960 [=================>............] - ETA: 21:54  loss: 0.4751 \n"
          ]
        },
        {
          "output_type": "stream",
          "name": "stderr",
          "text": [
            "06/07/2023 20:02:10 - INFO - root -   ee-chinese-roberta-wwm-ext-large precision: 0.663446950926653 - recall: 0.663446950926653 - f1 score: 0.663446950926653\n",
            "06/07/2023 20:02:10 - INFO - root -   Earlystopper counter: 4 out of 10\n"
          ]
        },
        {
          "output_type": "stream",
          "name": "stdout",
          "text": [
            "[Training] 639/960 [==================>...........] - ETA: 19:03  loss: 0.7065 "
          ]
        },
        {
          "output_type": "stream",
          "name": "stderr",
          "text": [
            "06/07/2023 20:03:29 - INFO - root -   ***** Running evaluation *****\n",
            "06/07/2023 20:03:29 - INFO - root -   Num samples 5000\n"
          ]
        },
        {
          "output_type": "stream",
          "name": "stdout",
          "text": [
            "\r[Training] 640/960 [===================>..........] - ETA: 18:59  loss: 0.7323 \n"
          ]
        },
        {
          "output_type": "stream",
          "name": "stderr",
          "text": [
            "06/07/2023 20:05:11 - INFO - root -   ee-chinese-roberta-wwm-ext-large precision: 0.6593644936761937 - recall: 0.6593644936761937 - f1 score: 0.6593644936761937\n",
            "06/07/2023 20:05:11 - INFO - root -   Earlystopper counter: 5 out of 10\n"
          ]
        },
        {
          "output_type": "stream",
          "name": "stdout",
          "text": [
            "[Training] 689/960 [====================>.........] - ETA: 16:07  loss: 0.6694 "
          ]
        },
        {
          "output_type": "stream",
          "name": "stderr",
          "text": [
            "06/07/2023 20:06:31 - INFO - root -   ***** Running evaluation *****\n",
            "06/07/2023 20:06:31 - INFO - root -   Num samples 5000\n"
          ]
        },
        {
          "output_type": "stream",
          "name": "stdout",
          "text": [
            "\r[Training] 690/960 [====================>.........] - ETA: 16:02  loss: 0.3435 \n"
          ]
        },
        {
          "output_type": "stream",
          "name": "stderr",
          "text": [
            "06/07/2023 20:08:13 - INFO - root -   ee-chinese-roberta-wwm-ext-large precision: 0.6582971845911063 - recall: 0.6582971845911063 - f1 score: 0.6582971845911063\n",
            "06/07/2023 20:08:13 - INFO - root -   Earlystopper counter: 6 out of 10\n"
          ]
        },
        {
          "output_type": "stream",
          "name": "stdout",
          "text": [
            "[Training] 739/960 [======================>.......] - ETA: 13:09  loss: 0.6735 "
          ]
        },
        {
          "output_type": "stream",
          "name": "stderr",
          "text": [
            "06/07/2023 20:09:33 - INFO - root -   ***** Running evaluation *****\n",
            "06/07/2023 20:09:33 - INFO - root -   Num samples 5000\n"
          ]
        },
        {
          "output_type": "stream",
          "name": "stdout",
          "text": [
            "\r[Training] 740/960 [======================>.......] - ETA: 13:05  loss: 0.7216 \n"
          ]
        },
        {
          "output_type": "stream",
          "name": "stderr",
          "text": [
            "06/07/2023 20:11:15 - INFO - root -   ee-chinese-roberta-wwm-ext-large precision: 0.6658483963680997 - recall: 0.6658483963680997 - f1 score: 0.6658483963680997\n",
            "06/07/2023 20:11:25 - INFO - root -   Saving models checkpoint to /content/output/checkpoint-1700\n"
          ]
        },
        {
          "output_type": "stream",
          "name": "stdout",
          "text": [
            "[Training] 789/960 [=======================>......] - ETA: 10:13  loss: 0.5296 "
          ]
        },
        {
          "output_type": "stream",
          "name": "stderr",
          "text": [
            "06/07/2023 20:12:45 - INFO - root -   ***** Running evaluation *****\n",
            "06/07/2023 20:12:45 - INFO - root -   Num samples 5000\n"
          ]
        },
        {
          "output_type": "stream",
          "name": "stdout",
          "text": [
            "\r[Training] 790/960 [=======================>......] - ETA: 10:09  loss: 0.5483 \n"
          ]
        },
        {
          "output_type": "stream",
          "name": "stderr",
          "text": [
            "06/07/2023 20:14:27 - INFO - root -   ee-chinese-roberta-wwm-ext-large precision: 0.6717338436087245 - recall: 0.6717338436087245 - f1 score: 0.6717338436087245\n",
            "06/07/2023 20:14:55 - INFO - root -   Saving models checkpoint to /content/output/checkpoint-1750\n"
          ]
        },
        {
          "output_type": "stream",
          "name": "stdout",
          "text": [
            "[Training] 839/960 [=========================>....] - ETA: 7:18  loss: 0.3557 "
          ]
        },
        {
          "output_type": "stream",
          "name": "stderr",
          "text": [
            "06/07/2023 20:16:15 - INFO - root -   ***** Running evaluation *****\n",
            "06/07/2023 20:16:15 - INFO - root -   Num samples 5000\n"
          ]
        },
        {
          "output_type": "stream",
          "name": "stdout",
          "text": [
            "\r[Training] 840/960 [=========================>....] - ETA: 7:14  loss: 0.4738 \n"
          ]
        },
        {
          "output_type": "stream",
          "name": "stderr",
          "text": [
            "06/07/2023 20:17:58 - INFO - root -   ee-chinese-roberta-wwm-ext-large precision: 0.6603555663980606 - recall: 0.6603555663980606 - f1 score: 0.6603555663980606\n",
            "06/07/2023 20:17:58 - INFO - root -   Earlystopper counter: 1 out of 10\n"
          ]
        },
        {
          "output_type": "stream",
          "name": "stdout",
          "text": [
            "[Training] 889/960 [==========================>...] - ETA: 4:17  loss: 0.5316 "
          ]
        },
        {
          "output_type": "stream",
          "name": "stderr",
          "text": [
            "06/07/2023 20:19:17 - INFO - root -   ***** Running evaluation *****\n",
            "06/07/2023 20:19:17 - INFO - root -   Num samples 5000\n"
          ]
        },
        {
          "output_type": "stream",
          "name": "stdout",
          "text": [
            "\r[Training] 890/960 [==========================>...] - ETA: 4:13  loss: 0.7357 \n"
          ]
        },
        {
          "output_type": "stream",
          "name": "stderr",
          "text": [
            "06/07/2023 20:21:00 - INFO - root -   ee-chinese-roberta-wwm-ext-large precision: 0.6681088045375884 - recall: 0.6681088045375884 - f1 score: 0.6681088045375884\n",
            "06/07/2023 20:21:00 - INFO - root -   Earlystopper counter: 2 out of 10\n"
          ]
        },
        {
          "output_type": "stream",
          "name": "stdout",
          "text": [
            "[Training] 939/960 [============================>.] - ETA: 1:16  loss: 0.5409 "
          ]
        },
        {
          "output_type": "stream",
          "name": "stderr",
          "text": [
            "06/07/2023 20:22:19 - INFO - root -   ***** Running evaluation *****\n",
            "06/07/2023 20:22:19 - INFO - root -   Num samples 5000\n"
          ]
        },
        {
          "output_type": "stream",
          "name": "stdout",
          "text": [
            "\r[Training] 940/960 [============================>.] - ETA: 1:12  loss: 0.5805 \n"
          ]
        },
        {
          "output_type": "stream",
          "name": "stderr",
          "text": [
            "06/07/2023 20:24:02 - INFO - root -   ee-chinese-roberta-wwm-ext-large precision: 0.6682193472642581 - recall: 0.6682193472642581 - f1 score: 0.6682193472642581\n",
            "06/07/2023 20:24:02 - INFO - root -   Earlystopper counter: 3 out of 10\n"
          ]
        },
        {
          "output_type": "stream",
          "name": "stdout",
          "text": [
            "[Training] 29/960 [..............................] - ETA: 24:32  loss: 0.7958 "
          ]
        },
        {
          "output_type": "stream",
          "name": "stderr",
          "text": [
            "06/07/2023 20:25:21 - INFO - root -   ***** Running evaluation *****\n",
            "06/07/2023 20:25:21 - INFO - root -   Num samples 5000\n"
          ]
        },
        {
          "output_type": "stream",
          "name": "stdout",
          "text": [
            "\r[Training] 30/960 [..............................] - ETA: 24:30  loss: 0.6217 \n"
          ]
        },
        {
          "output_type": "stream",
          "name": "stderr",
          "text": [
            "06/07/2023 20:27:04 - INFO - root -   ee-chinese-roberta-wwm-ext-large precision: 0.6634507627448141 - recall: 0.6634507627448141 - f1 score: 0.6634507627448141\n",
            "06/07/2023 20:27:04 - INFO - root -   Earlystopper counter: 4 out of 10\n"
          ]
        },
        {
          "output_type": "stream",
          "name": "stdout",
          "text": [
            "[Training] 79/960 [=>............................] - ETA: 42:23  loss: 0.6936 "
          ]
        },
        {
          "output_type": "stream",
          "name": "stderr",
          "text": [
            "06/07/2023 20:28:23 - INFO - root -   ***** Running evaluation *****\n",
            "06/07/2023 20:28:23 - INFO - root -   Num samples 5000\n"
          ]
        },
        {
          "output_type": "stream",
          "name": "stdout",
          "text": [
            "\r[Training] 80/960 [=>............................] - ETA: 42:06  loss: 0.5379 \n"
          ]
        },
        {
          "output_type": "stream",
          "name": "stderr",
          "text": [
            "06/07/2023 20:30:06 - INFO - root -   ee-chinese-roberta-wwm-ext-large precision: 0.6668242218173224 - recall: 0.6668242218173224 - f1 score: 0.6668242218173224\n",
            "06/07/2023 20:30:06 - INFO - root -   Earlystopper counter: 5 out of 10\n"
          ]
        },
        {
          "output_type": "stream",
          "name": "stdout",
          "text": [
            "[Training] 129/960 [===>..........................] - ETA: 44:04  loss: 0.7101 "
          ]
        },
        {
          "output_type": "stream",
          "name": "stderr",
          "text": [
            "06/07/2023 20:31:25 - INFO - root -   ***** Running evaluation *****\n",
            "06/07/2023 20:31:25 - INFO - root -   Num samples 5000\n"
          ]
        },
        {
          "output_type": "stream",
          "name": "stdout",
          "text": [
            "\r[Training] 130/960 [===>..........................] - ETA: 43:50  loss: 0.4259 \n"
          ]
        },
        {
          "output_type": "stream",
          "name": "stderr",
          "text": [
            "06/07/2023 20:33:08 - INFO - root -   ee-chinese-roberta-wwm-ext-large precision: 0.67138315633791 - recall: 0.67138315633791 - f1 score: 0.67138315633791\n",
            "06/07/2023 20:33:08 - INFO - root -   Earlystopper counter: 6 out of 10\n"
          ]
        },
        {
          "output_type": "stream",
          "name": "stdout",
          "text": [
            "[Training] 179/960 [====>.........................] - ETA: 43:06  loss: 0.4469 "
          ]
        },
        {
          "output_type": "stream",
          "name": "stderr",
          "text": [
            "06/07/2023 20:34:28 - INFO - root -   ***** Running evaluation *****\n",
            "06/07/2023 20:34:28 - INFO - root -   Num samples 5000\n"
          ]
        },
        {
          "output_type": "stream",
          "name": "stdout",
          "text": [
            "\r[Training] 180/960 [====>.........................] - ETA: 42:55  loss: 0.5020 \n"
          ]
        },
        {
          "output_type": "stream",
          "name": "stderr",
          "text": [
            "06/07/2023 20:36:11 - INFO - root -   ee-chinese-roberta-wwm-ext-large precision: 0.6607710545776124 - recall: 0.6607710545776124 - f1 score: 0.6607710545776124\n",
            "06/07/2023 20:36:11 - INFO - root -   Earlystopper counter: 7 out of 10\n"
          ]
        },
        {
          "output_type": "stream",
          "name": "stdout",
          "text": [
            "[Training] 229/960 [======>.......................] - ETA: 41:14  loss: 0.6268 "
          ]
        },
        {
          "output_type": "stream",
          "name": "stderr",
          "text": [
            "06/07/2023 20:37:30 - INFO - root -   ***** Running evaluation *****\n",
            "06/07/2023 20:37:30 - INFO - root -   Num samples 5000\n"
          ]
        },
        {
          "output_type": "stream",
          "name": "stdout",
          "text": [
            "\r[Training] 230/960 [======>.......................] - ETA: 41:05  loss: 0.6312 \n"
          ]
        },
        {
          "output_type": "stream",
          "name": "stderr",
          "text": [
            "06/07/2023 20:39:13 - INFO - root -   ee-chinese-roberta-wwm-ext-large precision: 0.6780576499378673 - recall: 0.6780576499378673 - f1 score: 0.6780576499378673\n",
            "06/07/2023 20:39:22 - INFO - root -   Saving models checkpoint to /content/output/checkpoint-2150\n"
          ]
        },
        {
          "output_type": "stream",
          "name": "stdout",
          "text": [
            "[Training] 279/960 [=======>......................] - ETA: 39:18  loss: 0.4149 "
          ]
        },
        {
          "output_type": "stream",
          "name": "stderr",
          "text": [
            "06/07/2023 20:40:41 - INFO - root -   ***** Running evaluation *****\n",
            "06/07/2023 20:40:41 - INFO - root -   Num samples 5000\n"
          ]
        },
        {
          "output_type": "stream",
          "name": "stdout",
          "text": [
            "\r[Training] 280/960 [=======>......................] - ETA: 39:10  loss: 0.6097 \n"
          ]
        },
        {
          "output_type": "stream",
          "name": "stderr",
          "text": [
            "06/07/2023 20:42:24 - INFO - root -   ee-chinese-roberta-wwm-ext-large precision: 0.6766282181274824 - recall: 0.6766282181274824 - f1 score: 0.6766282181274824\n",
            "06/07/2023 20:42:24 - INFO - root -   Earlystopper counter: 1 out of 10\n"
          ]
        },
        {
          "output_type": "stream",
          "name": "stdout",
          "text": [
            "[Training] 329/960 [=========>....................] - ETA: 36:42  loss: 0.3675 "
          ]
        },
        {
          "output_type": "stream",
          "name": "stderr",
          "text": [
            "06/07/2023 20:43:43 - INFO - root -   ***** Running evaluation *****\n",
            "06/07/2023 20:43:43 - INFO - root -   Num samples 5000\n"
          ]
        },
        {
          "output_type": "stream",
          "name": "stdout",
          "text": [
            "\r[Training] 330/960 [=========>....................] - ETA: 36:35  loss: 0.6151 \n"
          ]
        },
        {
          "output_type": "stream",
          "name": "stderr",
          "text": [
            "06/07/2023 20:45:26 - INFO - root -   ee-chinese-roberta-wwm-ext-large precision: 0.676262283584024 - recall: 0.676262283584024 - f1 score: 0.676262283584024\n",
            "06/07/2023 20:45:26 - INFO - root -   Earlystopper counter: 2 out of 10\n"
          ]
        },
        {
          "output_type": "stream",
          "name": "stdout",
          "text": [
            "[Training] 379/960 [==========>...................] - ETA: 34:00  loss: 0.6190 "
          ]
        },
        {
          "output_type": "stream",
          "name": "stderr",
          "text": [
            "06/07/2023 20:46:46 - INFO - root -   ***** Running evaluation *****\n",
            "06/07/2023 20:46:46 - INFO - root -   Num samples 5000\n"
          ]
        },
        {
          "output_type": "stream",
          "name": "stdout",
          "text": [
            "\r[Training] 380/960 [==========>...................] - ETA: 33:53  loss: 0.7486 \n"
          ]
        },
        {
          "output_type": "stream",
          "name": "stderr",
          "text": [
            "06/07/2023 20:48:28 - INFO - root -   ee-chinese-roberta-wwm-ext-large precision: 0.6737236126887803 - recall: 0.6737236126887803 - f1 score: 0.6737236126887803\n",
            "06/07/2023 20:48:28 - INFO - root -   Earlystopper counter: 3 out of 10\n"
          ]
        },
        {
          "output_type": "stream",
          "name": "stdout",
          "text": [
            "[Training] 429/960 [============>.................] - ETA: 31:12  loss: 0.4323 "
          ]
        },
        {
          "output_type": "stream",
          "name": "stderr",
          "text": [
            "06/07/2023 20:49:48 - INFO - root -   ***** Running evaluation *****\n",
            "06/07/2023 20:49:48 - INFO - root -   Num samples 5000\n"
          ]
        },
        {
          "output_type": "stream",
          "name": "stdout",
          "text": [
            "\r[Training] 430/960 [============>.................] - ETA: 31:06  loss: 0.8167 \n"
          ]
        },
        {
          "output_type": "stream",
          "name": "stderr",
          "text": [
            "06/07/2023 20:51:31 - INFO - root -   ee-chinese-roberta-wwm-ext-large precision: 0.6645333191025455 - recall: 0.6645333191025455 - f1 score: 0.6645333191025455\n",
            "06/07/2023 20:51:31 - INFO - root -   Earlystopper counter: 4 out of 10\n"
          ]
        },
        {
          "output_type": "stream",
          "name": "stdout",
          "text": [
            "[Training] 479/960 [=============>................] - ETA: 28:22  loss: 0.7187 "
          ]
        },
        {
          "output_type": "stream",
          "name": "stderr",
          "text": [
            "06/07/2023 20:52:50 - INFO - root -   ***** Running evaluation *****\n",
            "06/07/2023 20:52:50 - INFO - root -   Num samples 5000\n"
          ]
        },
        {
          "output_type": "stream",
          "name": "stdout",
          "text": [
            "\r[Training] 480/960 [==============>...............] - ETA: 28:16  loss: 0.4830 \n"
          ]
        },
        {
          "output_type": "stream",
          "name": "stderr",
          "text": [
            "06/07/2023 20:54:33 - INFO - root -   ee-chinese-roberta-wwm-ext-large precision: 0.6786141753893772 - recall: 0.6786141753893772 - f1 score: 0.6786141753893772\n",
            "06/07/2023 20:54:43 - INFO - root -   Saving models checkpoint to /content/output/checkpoint-2400\n"
          ]
        },
        {
          "output_type": "stream",
          "name": "stdout",
          "text": [
            "[Training] 529/960 [===============>..............] - ETA: 25:37  loss: 0.7310 "
          ]
        },
        {
          "output_type": "stream",
          "name": "stderr",
          "text": [
            "06/07/2023 20:56:02 - INFO - root -   ***** Running evaluation *****\n",
            "06/07/2023 20:56:02 - INFO - root -   Num samples 5000\n"
          ]
        },
        {
          "output_type": "stream",
          "name": "stdout",
          "text": [
            "\r[Training] 530/960 [===============>..............] - ETA: 25:32  loss: 0.8997 \n"
          ]
        },
        {
          "output_type": "stream",
          "name": "stderr",
          "text": [
            "06/07/2023 20:57:45 - INFO - root -   ee-chinese-roberta-wwm-ext-large precision: 0.6737922254156787 - recall: 0.6737922254156787 - f1 score: 0.6737922254156787\n",
            "06/07/2023 20:57:45 - INFO - root -   Earlystopper counter: 1 out of 10\n"
          ]
        },
        {
          "output_type": "stream",
          "name": "stdout",
          "text": [
            "[Training] 579/960 [=================>............] - ETA: 22:41  loss: 0.6143 "
          ]
        },
        {
          "output_type": "stream",
          "name": "stderr",
          "text": [
            "06/07/2023 20:59:05 - INFO - root -   ***** Running evaluation *****\n",
            "06/07/2023 20:59:05 - INFO - root -   Num samples 5000\n"
          ]
        },
        {
          "output_type": "stream",
          "name": "stdout",
          "text": [
            "\r[Training] 580/960 [=================>............] - ETA: 22:37  loss: 0.5218 \n"
          ]
        },
        {
          "output_type": "stream",
          "name": "stderr",
          "text": [
            "06/07/2023 21:00:47 - INFO - root -   ee-chinese-roberta-wwm-ext-large precision: 0.6782406172095966 - recall: 0.6782406172095966 - f1 score: 0.6782406172095966\n",
            "06/07/2023 21:00:47 - INFO - root -   Earlystopper counter: 2 out of 10\n"
          ]
        },
        {
          "output_type": "stream",
          "name": "stdout",
          "text": [
            "[Training] 629/960 [==================>...........] - ETA: 19:45  loss: 0.5134 "
          ]
        },
        {
          "output_type": "stream",
          "name": "stderr",
          "text": [
            "06/07/2023 21:02:07 - INFO - root -   ***** Running evaluation *****\n",
            "06/07/2023 21:02:07 - INFO - root -   Num samples 5000\n"
          ]
        },
        {
          "output_type": "stream",
          "name": "stdout",
          "text": [
            "\r[Training] 630/960 [==================>...........] - ETA: 19:40  loss: 0.3634 \n"
          ]
        },
        {
          "output_type": "stream",
          "name": "stderr",
          "text": [
            "06/07/2023 21:03:50 - INFO - root -   ee-chinese-roberta-wwm-ext-large precision: 0.6797234144742359 - recall: 0.6797234144742359 - f1 score: 0.6797234144742359\n",
            "06/07/2023 21:04:00 - INFO - root -   Saving models checkpoint to /content/output/checkpoint-2550\n"
          ]
        },
        {
          "output_type": "stream",
          "name": "stdout",
          "text": [
            "[Training] 679/960 [====================>.........] - ETA: 16:51  loss: 0.5949 "
          ]
        },
        {
          "output_type": "stream",
          "name": "stderr",
          "text": [
            "06/07/2023 21:05:19 - INFO - root -   ***** Running evaluation *****\n",
            "06/07/2023 21:05:19 - INFO - root -   Num samples 5000\n"
          ]
        },
        {
          "output_type": "stream",
          "name": "stdout",
          "text": [
            "\r[Training] 680/960 [====================>.........] - ETA: 16:47  loss: 0.5378 \n"
          ]
        },
        {
          "output_type": "stream",
          "name": "stderr",
          "text": [
            "06/07/2023 21:07:02 - INFO - root -   ee-chinese-roberta-wwm-ext-large precision: 0.6771618726700261 - recall: 0.6771618726700261 - f1 score: 0.6771618726700261\n",
            "06/07/2023 21:07:02 - INFO - root -   Earlystopper counter: 1 out of 10\n"
          ]
        },
        {
          "output_type": "stream",
          "name": "stdout",
          "text": [
            "[Training] 729/960 [=====================>........] - ETA: 13:52  loss: 0.7440 "
          ]
        },
        {
          "output_type": "stream",
          "name": "stderr",
          "text": [
            "06/07/2023 21:08:21 - INFO - root -   ***** Running evaluation *****\n",
            "06/07/2023 21:08:21 - INFO - root -   Num samples 5000\n"
          ]
        },
        {
          "output_type": "stream",
          "name": "stdout",
          "text": [
            "\r[Training] 730/960 [=====================>........] - ETA: 13:48  loss: 0.4942 \n"
          ]
        },
        {
          "output_type": "stream",
          "name": "stderr",
          "text": [
            "06/07/2023 21:10:04 - INFO - root -   ee-chinese-roberta-wwm-ext-large precision: 0.6763728263106936 - recall: 0.6763728263106936 - f1 score: 0.6763728263106936\n",
            "06/07/2023 21:10:04 - INFO - root -   Earlystopper counter: 2 out of 10\n"
          ]
        },
        {
          "output_type": "stream",
          "name": "stdout",
          "text": [
            "[Training] 779/960 [=======================>......] - ETA: 10:52  loss: 0.4745 "
          ]
        },
        {
          "output_type": "stream",
          "name": "stderr",
          "text": [
            "06/07/2023 21:11:23 - INFO - root -   ***** Running evaluation *****\n",
            "06/07/2023 21:11:23 - INFO - root -   Num samples 5000\n"
          ]
        },
        {
          "output_type": "stream",
          "name": "stdout",
          "text": [
            "\r[Training] 780/960 [=======================>......] - ETA: 10:48  loss: 0.5065 \n"
          ]
        },
        {
          "output_type": "stream",
          "name": "stderr",
          "text": [
            "06/07/2023 21:13:06 - INFO - root -   ee-chinese-roberta-wwm-ext-large precision: 0.6817017480998087 - recall: 0.6817017480998087 - f1 score: 0.6817017480998087\n",
            "06/07/2023 21:13:23 - INFO - root -   Saving models checkpoint to /content/output/checkpoint-2700\n"
          ]
        },
        {
          "output_type": "stream",
          "name": "stdout",
          "text": [
            "[Training] 829/960 [========================>.....] - ETA: 7:55  loss: 0.5512 "
          ]
        },
        {
          "output_type": "stream",
          "name": "stderr",
          "text": [
            "06/07/2023 21:14:43 - INFO - root -   ***** Running evaluation *****\n",
            "06/07/2023 21:14:43 - INFO - root -   Num samples 5000\n"
          ]
        },
        {
          "output_type": "stream",
          "name": "stdout",
          "text": [
            "\r[Training] 830/960 [========================>.....] - ETA: 7:51  loss: 0.2836 \n"
          ]
        },
        {
          "output_type": "stream",
          "name": "stderr",
          "text": [
            "06/07/2023 21:16:26 - INFO - root -   ee-chinese-roberta-wwm-ext-large precision: 0.6798187099282615 - recall: 0.6798187099282615 - f1 score: 0.6798187099282615\n",
            "06/07/2023 21:16:26 - INFO - root -   Earlystopper counter: 1 out of 10\n"
          ]
        },
        {
          "output_type": "stream",
          "name": "stdout",
          "text": [
            "[Training] 879/960 [==========================>...] - ETA: 4:53  loss: 0.4913 "
          ]
        },
        {
          "output_type": "stream",
          "name": "stderr",
          "text": [
            "06/07/2023 21:17:45 - INFO - root -   ***** Running evaluation *****\n",
            "06/07/2023 21:17:45 - INFO - root -   Num samples 5000\n"
          ]
        },
        {
          "output_type": "stream",
          "name": "stdout",
          "text": [
            "\r[Training] 880/960 [==========================>...] - ETA: 4:50  loss: 0.4271 \n"
          ]
        },
        {
          "output_type": "stream",
          "name": "stderr",
          "text": [
            "06/07/2023 21:19:28 - INFO - root -   ee-chinese-roberta-wwm-ext-large precision: 0.6826928208216755 - recall: 0.6826928208216755 - f1 score: 0.6826928208216755\n",
            "06/07/2023 21:19:38 - INFO - root -   Saving models checkpoint to /content/output/checkpoint-2800\n"
          ]
        },
        {
          "output_type": "stream",
          "name": "stdout",
          "text": [
            "[Training] 929/960 [============================>.] - ETA: 1:52  loss: 0.3938 "
          ]
        },
        {
          "output_type": "stream",
          "name": "stderr",
          "text": [
            "06/07/2023 21:20:57 - INFO - root -   ***** Running evaluation *****\n",
            "06/07/2023 21:20:57 - INFO - root -   Num samples 5000\n"
          ]
        },
        {
          "output_type": "stream",
          "name": "stdout",
          "text": [
            "\r[Training] 930/960 [============================>.] - ETA: 1:49  loss: 0.5600 \n"
          ]
        },
        {
          "output_type": "stream",
          "name": "stderr",
          "text": [
            "06/07/2023 21:22:40 - INFO - root -   ee-chinese-roberta-wwm-ext-large precision: 0.6807830999230012 - recall: 0.6807830999230012 - f1 score: 0.6807830999230012\n",
            "06/07/2023 21:22:40 - INFO - root -   Earlystopper counter: 1 out of 10\n"
          ]
        },
        {
          "output_type": "stream",
          "name": "stdout",
          "text": [
            "[Training] 959/960 [============================>.] - ETA: 3s  loss: 0.4266 "
          ]
        },
        {
          "output_type": "stream",
          "name": "stderr",
          "text": [
            "06/07/2023 21:23:27 - INFO - root -   Training Stop! The best step 2800: 0.6826928208216755\n"
          ]
        },
        {
          "output_type": "stream",
          "name": "stdout",
          "text": [
            "\r[Training] 960/960 [==============================] 3.7s/step  loss: 0.8073 "
          ]
        },
        {
          "output_type": "stream",
          "name": "stderr",
          "text": [
            "06/07/2023 21:23:46 - INFO - root -   Saving models checkpoint to /content/output\n"
          ]
        },
        {
          "output_type": "execute_result",
          "data": {
            "text/plain": [
              "(2880, 2800)"
            ]
          },
          "metadata": {},
          "execution_count": 8
        }
      ],
      "source": [
        "trainer = EETrainer(args, model, data_processor, tokenizer, logger, RobertaForTokenClassification, train_dataset, eval_dataset)\n",
        "trainer.train()"
      ]
    },
    {
      "cell_type": "code",
      "execution_count": null,
      "metadata": {
        "colab": {
          "base_uri": "https://localhost:8080/"
        },
        "id": "J4LR6cd49SyD",
        "outputId": "5bcb0591-d18c-4824-dd9c-645aa277a783"
      },
      "outputs": [
        {
          "output_type": "stream",
          "name": "stderr",
          "text": [
            "06/07/2023 21:24:08 - INFO - root -   ***** Running prediction *****\n",
            "06/07/2023 21:24:08 - INFO - root -   Num samples 9868\n"
          ]
        },
        {
          "output_type": "stream",
          "name": "stdout",
          "text": [
            "[Prediction] 412/412 [==============================] 489.4ms/step"
          ]
        }
      ],
      "source": [
        "trainer.predict(model, test_dataset)"
      ]
    },
    {
      "cell_type": "code",
      "execution_count": null,
      "metadata": {
        "colab": {
          "base_uri": "https://localhost:8080/"
        },
        "id": "awu4Rty29nBR",
        "outputId": "32a67188-82b7-4c00-a598-885a744d732c"
      },
      "outputs": [
        {
          "output_type": "stream",
          "name": "stderr",
          "text": [
            "06/07/2023 21:28:10 - INFO - root -   ***** Running evaluation *****\n",
            "06/07/2023 21:28:10 - INFO - root -   Num samples 5000\n",
            "06/07/2023 21:29:54 - INFO - root -   ee-chinese-roberta-wwm-ext-large precision: 0.6824298053685647 - recall: 0.6824298053685647 - f1 score: 0.6824298053685647\n"
          ]
        },
        {
          "output_type": "execute_result",
          "data": {
            "text/plain": [
              "0.6824298053685647"
            ]
          },
          "metadata": {},
          "execution_count": 10
        }
      ],
      "source": [
        "trainer.evaluate(model)"
      ]
    },
    {
      "cell_type": "markdown",
      "source": [
        "# Графики"
      ],
      "metadata": {
        "id": "W2d6KYK1dCFb"
      }
    },
    {
      "cell_type": "code",
      "execution_count": null,
      "metadata": {
        "id": "ayo6RRIuEeQ3"
      },
      "outputs": [],
      "source": [
        "loss_val_arr = []\n",
        "loss_by_epochs = []\n",
        "stopCount = int(len(trainer.predicts_outputs)/ args.epochs)\n",
        "\n",
        "lossEpoch = 0\n",
        "item_count = 0\n",
        "\n",
        "for item in trainer.predicts_outputs:\n",
        "  tensor = item[0]\n",
        "  item_count += 1\n",
        "\n",
        "  lossEpoch += tensor.item()\n",
        "  loss_val_arr.append(tensor.item())\n",
        "\n",
        "  if item_count == stopCount:\n",
        "    loss_by_epochs.append(lossEpoch/stopCount)\n",
        "    item_count = 0\n",
        "    lossEpoch = 0"
      ]
    },
    {
      "cell_type": "code",
      "execution_count": null,
      "metadata": {
        "id": "eFVo0Mh11Xr4"
      },
      "outputs": [],
      "source": [
        "loss_arr = []\n",
        "loss_arr_by_epoch = []\n",
        "\n",
        "for item in trainer.loss_array:\n",
        "  tmp_loss = []\n",
        "  loss = 0\n",
        "  for tensor in item:\n",
        "      loss += tensor.item()\n",
        "      loss_arr.append(tensor.item())\n",
        "\n",
        "  loss_arr_by_epoch.append(loss/len(trainer.loss_array[0]))"
      ]
    },
    {
      "cell_type": "code",
      "execution_count": null,
      "metadata": {
        "id": "aVkHIcGCd3rV"
      },
      "outputs": [],
      "source": [
        "trainer.loss_array"
      ]
    },
    {
      "cell_type": "code",
      "execution_count": null,
      "metadata": {
        "id": "F1mzXYMcF3iJ"
      },
      "outputs": [],
      "source": [
        "if len(loss_val_arr) < len(loss_arr):\n",
        "  for i in range(len(loss_val_arr), len(loss_arr)):\n",
        "    loss_val_arr.append(0)"
      ]
    },
    {
      "cell_type": "code",
      "execution_count": null,
      "metadata": {
        "colab": {
          "base_uri": "https://localhost:8080/",
          "height": 563
        },
        "id": "C8cqEm6f1GoN",
        "outputId": "4c5065cb-4cce-4678-bddb-fbb1ebd66649"
      },
      "outputs": [
        {
          "output_type": "stream",
          "name": "stderr",
          "text": [
            "<ipython-input-47-38c6df0fae35>:6: UserWarning: color is redundantly defined by the 'color' keyword argument and the fmt string \"b\" (-> color=(0.0, 0.0, 1.0, 1)). The keyword argument will take precedence.\n",
            "  plt.plot(epochs, loss_arr, 'b', label='Training Loss', color='pink')\n",
            "<ipython-input-47-38c6df0fae35>:7: UserWarning: color is redundantly defined by the 'color' keyword argument and the fmt string \"b\" (-> color=(0.0, 0.0, 1.0, 1)). The keyword argument will take precedence.\n",
            "  plt.plot(epochs, loss_val_arr[0:len(loss_arr)], 'b', label='Val Loss', color='green')\n"
          ]
        },
        {
          "output_type": "display_data",
          "data": {
            "text/plain": [
              "<Figure size 640x480 with 1 Axes>"
            ],
            "image/png": "[encoded data removed]"
          },
          "metadata": {}
        }
      ],
      "source": [
        "import matplotlib.pyplot as plt\n",
        "\n",
        "epochs = range(1, len(loss_arr) + 1)\n",
        "\n",
        "\n",
        "plt.plot(epochs, loss_arr, 'b', label='Training Loss', color='pink')\n",
        "plt.plot(epochs, loss_val_arr[0:len(loss_arr)], 'b', label='Val Loss', color='green')\n",
        "plt.title('Loss')\n",
        "plt.xlabel('Steps')\n",
        "plt.ylabel('Loss')\n",
        "plt.legend()\n",
        "plt.show()"
      ]
    },
    {
      "cell_type": "code",
      "execution_count": null,
      "metadata": {
        "colab": {
          "base_uri": "https://localhost:8080/",
          "height": 563
        },
        "id": "upRF9YF9uakc",
        "outputId": "b1c06d38-eecd-483c-c581-3780ffc0904a"
      },
      "outputs": [
        {
          "output_type": "stream",
          "name": "stderr",
          "text": [
            "<ipython-input-45-e0ae6e1b77d8>:2: UserWarning: color is redundantly defined by the 'color' keyword argument and the fmt string \"b\" (-> color=(0.0, 0.0, 1.0, 1)). The keyword argument will take precedence.\n",
            "  plt.plot(epochs, loss_arr_by_epoch, 'b', label='Training Loss', color='pink')\n",
            "<ipython-input-45-e0ae6e1b77d8>:3: UserWarning: color is redundantly defined by the 'color' keyword argument and the fmt string \"b\" (-> color=(0.0, 0.0, 1.0, 1)). The keyword argument will take precedence.\n",
            "  plt.plot(epochs, loss_by_epochs, 'b', label='Val Loss', color='green')\n"
          ]
        },
        {
          "output_type": "display_data",
          "data": {
            "text/plain": [
              "<Figure size 640x480 with 1 Axes>"
            ],
            "image/png": "[encoded data removed]"
          },
          "metadata": {}
        }
      ],
      "source": [
        "epochs = range(1, args.epochs + 1)\n",
        "plt.plot(epochs, loss_arr_by_epoch, 'b', label='Training Loss', color='pink')\n",
        "plt.plot(epochs, loss_by_epochs, 'b', label='Val Loss', color='green')\n",
        "plt.title('Loss')\n",
        "plt.xlabel('Epochs')\n",
        "plt.ylabel('Loss')\n",
        "plt.legend()\n",
        "plt.show()"
      ]
    },
    {
      "cell_type": "markdown",
      "metadata": {
        "id": "JEgct23xcHYA"
      },
      "source": [
        "# Classification report\n"
      ]
    },
    {
      "cell_type": "code",
      "execution_count": null,
      "metadata": {
        "colab": {
          "base_uri": "https://localhost:8080/"
        },
        "id": "2B7CnDExcG5G",
        "outputId": "d5791088-c532-45c8-a112-44418caff0c4"
      },
      "outputs": [
        {
          "output_type": "stream",
          "name": "stdout",
          "text": [
            "Looking in indexes: https://pypi.org/simple, https://us-python.pkg.dev/colab-wheels/public/simple/\n",
            "Collecting seqeval\n",
            "  Downloading seqeval-1.2.2.tar.gz (43 kB)\n",
            "\u001b[2K     \u001b[90m━━━━━━━━━━━━━━━━━━━━━━━━━━━━━━━━━━━━━━━━\u001b[0m \u001b[32m43.6/43.6 kB\u001b[0m \u001b[31m1.0 MB/s\u001b[0m eta \u001b[36m0:00:00\u001b[0m\n",
            "\u001b[?25h  Preparing metadata (setup.py) ... \u001b[?25l\u001b[?25hdone\n",
            "Requirement already satisfied: numpy>=1.14.0 in /usr/local/lib/python3.10/dist-packages (from seqeval) (1.22.4)\n",
            "Requirement already satisfied: scikit-learn>=0.21.3 in /usr/local/lib/python3.10/dist-packages (from seqeval) (1.2.2)\n",
            "Requirement already satisfied: scipy>=1.3.2 in /usr/local/lib/python3.10/dist-packages (from scikit-learn>=0.21.3->seqeval) (1.10.1)\n",
            "Requirement already satisfied: joblib>=1.1.1 in /usr/local/lib/python3.10/dist-packages (from scikit-learn>=0.21.3->seqeval) (1.2.0)\n",
            "Requirement already satisfied: threadpoolctl>=2.0.0 in /usr/local/lib/python3.10/dist-packages (from scikit-learn>=0.21.3->seqeval) (3.1.0)\n",
            "Building wheels for collected packages: seqeval\n",
            "  Building wheel for seqeval (setup.py) ... \u001b[?25l\u001b[?25hdone\n",
            "  Created wheel for seqeval: filename=seqeval-1.2.2-py3-none-any.whl size=16165 sha256=8f799517f97d07fa0a04acf6c88c6a38d5be93ae57959e369fd1154c1f4167ac\n",
            "  Stored in directory: /root/.cache/pip/wheels/1a/67/4a/ad4082dd7dfc30f2abfe4d80a2ed5926a506eb8a972b4767fa\n",
            "Successfully built seqeval\n",
            "Installing collected packages: seqeval\n",
            "Successfully installed seqeval-1.2.2\n"
          ]
        }
      ],
      "source": [
        "!pip install seqeval"
      ]
    },
    {
      "cell_type": "code",
      "execution_count": null,
      "metadata": {
        "id": "e5kPVmKYcPgD"
      },
      "outputs": [],
      "source": [
        "#from sklearn.metrics import f1_score\n",
        "from seqeval.metrics import classification_report, f1_score\n",
        "import json"
      ]
    },
    {
      "cell_type": "code",
      "execution_count": null,
      "metadata": {
        "id": "tMSSIsxOcRN7"
      },
      "outputs": [],
      "source": [
        "f1 = open('/content/score_eval/test_data.json')\n",
        "f2 = open('/content/output_result/CMeEE_test.json')\n",
        "\n",
        "fullTestDataset = json.load(f1)\n",
        "predictedTestDataset = json.load(f2)"
      ]
    },
    {
      "cell_type": "code",
      "execution_count": null,
      "metadata": {
        "colab": {
          "base_uri": "https://localhost:8080/"
        },
        "id": "Lr7w-5Ikrlic",
        "outputId": "2b64f124-d8f9-4969-868c-4c07d201e304"
      },
      "outputs": [
        {
          "output_type": "execute_result",
          "data": {
            "text/plain": [
              "9868"
            ]
          },
          "metadata": {},
          "execution_count": 27
        }
      ],
      "source": [
        "len(predictedTestDataset)"
      ]
    },
    {
      "cell_type": "code",
      "execution_count": null,
      "metadata": {
        "colab": {
          "base_uri": "https://localhost:8080/"
        },
        "id": "WTbQlB7ErigR",
        "outputId": "3dda3aad-667b-4693-ba93-f99f1c3ce659"
      },
      "outputs": [
        {
          "output_type": "execute_result",
          "data": {
            "text/plain": [
              "9868"
            ]
          },
          "metadata": {},
          "execution_count": 28
        }
      ],
      "source": [
        "len(fullTestDataset)"
      ]
    },
    {
      "cell_type": "code",
      "execution_count": null,
      "metadata": {
        "id": "jydrSFL7c-sA"
      },
      "outputs": [],
      "source": [
        "trueLabels = []\n",
        "predictedLabels = []\n",
        "labelWrongOrNull = '-100'\n",
        "\n",
        "for i in range(len(fullTestDataset)):\n",
        "  tempTrue = []\n",
        "  tempPredicted = []\n",
        "\n",
        "  for j in range(len(fullTestDataset[i]['entities'])):\n",
        "    itemTrue = fullTestDataset[i]['entities'][j]\n",
        "    predictedItem = next((predictedItem['type'] for predictedItem in predictedTestDataset[i]['entities'] if  itemTrue['start_idx'] == predictedItem['start_idx'] and itemTrue['end_idx'] == predictedItem['end_idx']), labelWrongOrNull)\n",
        "\n",
        "    tempTrue.append(itemTrue['type'])\n",
        "    tempPredicted.append(predictedItem)\n",
        "\n",
        "  predictedLabels.append(tempPredicted)\n",
        "  trueLabels.append(tempTrue)\n",
        ""
      ]
    },
    {
      "cell_type": "code",
      "execution_count": null,
      "metadata": {
        "colab": {
          "base_uri": "https://localhost:8080/"
        },
        "id": "uNvODBDoKCgm",
        "outputId": "332c373f-5e80-403e-fc34-d18143f94695"
      },
      "outputs": [
        {
          "output_type": "stream",
          "name": "stdout",
          "text": [
            "9868\n",
            "9868\n"
          ]
        }
      ],
      "source": [
        "print(len(predictedLabels))\n",
        "print(len(trueLabels))"
      ]
    },
    {
      "cell_type": "code",
      "execution_count": null,
      "metadata": {
        "id": "DhROcGq1kP14",
        "colab": {
          "base_uri": "https://localhost:8080/"
        },
        "outputId": "b1e78ea2-3dd8-462c-8463-9ee3b5711279"
      },
      "outputs": [
        {
          "output_type": "stream",
          "name": "stderr",
          "text": [
            "/usr/local/lib/python3.10/dist-packages/seqeval/metrics/sequence_labeling.py:171: UserWarning: bod seems not to be NE tag.\n",
            "  warnings.warn('{} seems not to be NE tag.'.format(chunk))\n",
            "/usr/local/lib/python3.10/dist-packages/seqeval/metrics/sequence_labeling.py:171: UserWarning: dis seems not to be NE tag.\n",
            "  warnings.warn('{} seems not to be NE tag.'.format(chunk))\n",
            "/usr/local/lib/python3.10/dist-packages/seqeval/metrics/sequence_labeling.py:171: UserWarning: ite seems not to be NE tag.\n",
            "  warnings.warn('{} seems not to be NE tag.'.format(chunk))\n",
            "/usr/local/lib/python3.10/dist-packages/seqeval/metrics/sequence_labeling.py:171: UserWarning: dep seems not to be NE tag.\n",
            "  warnings.warn('{} seems not to be NE tag.'.format(chunk))\n",
            "/usr/local/lib/python3.10/dist-packages/seqeval/metrics/sequence_labeling.py:171: UserWarning: sym seems not to be NE tag.\n",
            "  warnings.warn('{} seems not to be NE tag.'.format(chunk))\n",
            "/usr/local/lib/python3.10/dist-packages/seqeval/metrics/sequence_labeling.py:171: UserWarning: pro seems not to be NE tag.\n",
            "  warnings.warn('{} seems not to be NE tag.'.format(chunk))\n",
            "/usr/local/lib/python3.10/dist-packages/seqeval/metrics/sequence_labeling.py:171: UserWarning: dru seems not to be NE tag.\n",
            "  warnings.warn('{} seems not to be NE tag.'.format(chunk))\n",
            "/usr/local/lib/python3.10/dist-packages/seqeval/metrics/sequence_labeling.py:171: UserWarning: equ seems not to be NE tag.\n",
            "  warnings.warn('{} seems not to be NE tag.'.format(chunk))\n",
            "/usr/local/lib/python3.10/dist-packages/seqeval/metrics/sequence_labeling.py:171: UserWarning: mic seems not to be NE tag.\n",
            "  warnings.warn('{} seems not to be NE tag.'.format(chunk))\n",
            "/usr/local/lib/python3.10/dist-packages/seqeval/metrics/sequence_labeling.py:171: UserWarning: -100 seems not to be NE tag.\n",
            "  warnings.warn('{} seems not to be NE tag.'.format(chunk))\n",
            "/usr/local/lib/python3.10/dist-packages/seqeval/metrics/v1.py:57: UndefinedMetricWarning: Recall and F-score are ill-defined and being set to 0.0 in labels with no true samples. Use `zero_division` parameter to control this behavior.\n",
            "  _warn_prf(average, modifier, msg_start, len(result))\n"
          ]
        }
      ],
      "source": [
        "report = classification_report(trueLabels, predictedLabels)"
      ]
    },
    {
      "cell_type": "code",
      "execution_count": null,
      "metadata": {
        "id": "Z_i677Xzf0Ay"
      },
      "outputs": [],
      "source": [
        "micro_f1 = f1_score(trueLabels, predictedLabels)\n",
        "macro_f1 = f1_score(trueLabels, predictedLabels, average='macro')"
      ]
    },
    {
      "cell_type": "code",
      "execution_count": null,
      "metadata": {
        "colab": {
          "base_uri": "https://localhost:8080/"
        },
        "id": "LYKBTGR5kYBD",
        "outputId": "430024f1-c049-4f62-c950-ace4fcf8911d"
      },
      "outputs": [
        {
          "output_type": "stream",
          "name": "stdout",
          "text": [
            "              precision    recall  f1-score   support\n",
            "\n",
            "         100       0.00      0.00      0.00         0\n",
            "          ep       1.00      0.94      0.97      1421\n",
            "          ic       0.33      0.07      0.12       362\n",
            "          is       0.37      0.09      0.15      3523\n",
            "          od       0.43      0.13      0.20      3793\n",
            "          qu       0.99      0.86      0.92      1229\n",
            "          ro       0.31      0.05      0.09      1310\n",
            "          ru       0.37      0.07      0.11      1275\n",
            "          te       0.94      0.57      0.71      1358\n",
            "          ym       0.15      0.04      0.06      2086\n",
            "\n",
            "   micro avg       0.32      0.26      0.29     16357\n",
            "   macro avg       0.49      0.28      0.33     16357\n",
            "weighted avg       0.50      0.26      0.32     16357\n",
            "\n"
          ]
        }
      ],
      "source": [
        "print(report)"
      ]
    },
    {
      "cell_type": "code",
      "execution_count": null,
      "metadata": {
        "colab": {
          "base_uri": "https://localhost:8080/"
        },
        "id": "8wdSe-wykFhN",
        "outputId": "14b1137a-f0b5-4d12-e969-0aa3f8107e47"
      },
      "outputs": [
        {
          "output_type": "execute_result",
          "data": {
            "text/plain": [
              "0.2860207844451894"
            ]
          },
          "metadata": {},
          "execution_count": 34
        }
      ],
      "source": [
        "micro_f1"
      ]
    },
    {
      "cell_type": "code",
      "execution_count": null,
      "metadata": {
        "colab": {
          "base_uri": "https://localhost:8080/"
        },
        "id": "u8Y4SAwWkHOF",
        "outputId": "96ad726a-e463-47cf-98b8-dfe73af32291"
      },
      "outputs": [
        {
          "output_type": "execute_result",
          "data": {
            "text/plain": [
              "0.3337625221709553"
            ]
          },
          "metadata": {},
          "execution_count": 35
        }
      ],
      "source": [
        "macro_f1"
      ]
    }
  ],
  "metadata": {
    "accelerator": "GPU",
    "colab": {
      "provenance": []
    },
    "kernelspec": {
      "display_name": "Python 3",
      "name": "python3"
    },
    "language_info": {
      "name": "python"
    }
  },
  "nbformat": 4,
  "nbformat_minor": 0
}