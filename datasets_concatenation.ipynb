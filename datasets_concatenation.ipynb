{
  "nbformat": 4,
  "nbformat_minor": 0,
  "metadata": {
    "colab": {
      "provenance": []
    },
    "kernelspec": {
      "name": "python3",
      "display_name": "Python 3"
    },
    "language_info": {
      "name": "python"
    }
  },
  "cells": [
    {
      "cell_type": "code",
      "source": [
        "import json\n",
        "import re"
      ],
      "metadata": {
        "id": "nYo7H5__VXSE"
      },
      "execution_count": null,
      "outputs": []
    },
    {
      "cell_type": "code",
      "source": [
        "f = open('/content/CMeEE_train.json')\n"
      ],
      "metadata": {
        "id": "TdCOjxBiWQnL"
      },
      "execution_count": null,
      "outputs": []
    },
    {
      "cell_type": "code",
      "source": [
        "data = json.load(f)\n"
      ],
      "metadata": {
        "id": "1IeF6fgJWeIo"
      },
      "execution_count": null,
      "outputs": []
    },
    {
      "cell_type": "code",
      "source": [
        "depF = open('./dep.json')\n",
        "depDataset = json.load(depF)"
      ],
      "metadata": {
        "id": "lfsZe7k6Ii4Q"
      },
      "execution_count": null,
      "outputs": []
    },
    {
      "cell_type": "code",
      "source": [
        "equF = open('./equ.json')\n",
        "equDataset = json.load(equF)"
      ],
      "metadata": {
        "id": "8hysb36EIk4m"
      },
      "execution_count": null,
      "outputs": []
    },
    {
      "cell_type": "code",
      "source": [
        "iteF = open('./ite.json')\n",
        "iteDataset = json.load(iteF)"
      ],
      "metadata": {
        "id": "v9FVjpgJekr6"
      },
      "execution_count": null,
      "outputs": []
    },
    {
      "cell_type": "code",
      "source": [
        "data = depDataset + equDataset + data + iteDataset"
      ],
      "metadata": {
        "id": "W3u2BxBiIm2r"
      },
      "execution_count": null,
      "outputs": []
    },
    {
      "cell_type": "code",
      "source": [
        "s = open('/content/CMID_datasets.json')\n"
      ],
      "metadata": {
        "id": "yTnZoRAVVsTP"
      },
      "execution_count": null,
      "outputs": []
    },
    {
      "cell_type": "code",
      "source": [
        "data_cmid = json.load(s)"
      ],
      "metadata": {
        "id": "H_3vA_l4W7GT"
      },
      "execution_count": null,
      "outputs": []
    },
    {
      "cell_type": "code",
      "source": [
        "data_cmid"
      ],
      "metadata": {
        "id": "Satv1d9wc8kN"
      },
      "execution_count": null,
      "outputs": []
    },
    {
      "cell_type": "code",
      "source": [
        "unique_ent_cmid = []\n",
        "for chunk in data_cmid:\n",
        "  for entity in chunk['entities']:\n",
        "    if entity['label_type'] not in unique_ent_cmid:\n",
        "      unique_ent_cmid.append(entity['label_type'])"
      ],
      "metadata": {
        "id": "Sq8R0MRpvEDm"
      },
      "execution_count": null,
      "outputs": []
    },
    {
      "cell_type": "code",
      "source": [
        "unique_ent_cmid"
      ],
      "metadata": {
        "colab": {
          "base_uri": "https://localhost:8080/"
        },
        "id": "5E4xESjLvkF3",
        "outputId": "d2663079-aa82-4f7f-b07c-811ed3a8022f"
      },
      "execution_count": null,
      "outputs": [
        {
          "output_type": "execute_result",
          "data": {
            "text/plain": [
              "['疾病和诊断', '解剖部位', '药物', '影像检查', '手术', '实验室检验']"
            ]
          },
          "metadata": {},
          "execution_count": 12
        }
      ]
    },
    {
      "cell_type": "code",
      "source": [
        "unique_ent_cmeee = []\n",
        "for chunk in data:\n",
        "  for entity in chunk['entities']:\n",
        "    if entity['type'] not in unique_ent_cmeee:\n",
        "      unique_ent_cmeee.append(entity['type'])"
      ],
      "metadata": {
        "id": "i-mKQQ1Us76S"
      },
      "execution_count": null,
      "outputs": []
    },
    {
      "cell_type": "code",
      "source": [
        "unique_ent_cmeee"
      ],
      "metadata": {
        "colab": {
          "base_uri": "https://localhost:8080/"
        },
        "id": "8n-DqgITu-mX",
        "outputId": "dee7a4ae-d54c-4e11-be43-ec3be9869369"
      },
      "execution_count": null,
      "outputs": [
        {
          "output_type": "execute_result",
          "data": {
            "text/plain": [
              "['dep', 'equ', 'pro', 'dis', 'sym', 'ite', 'bod', 'dru', 'mic']"
            ]
          },
          "metadata": {},
          "execution_count": 14
        }
      ]
    },
    {
      "cell_type": "code",
      "source": [
        "ent_type_replacement = {\n",
        "    '解剖部位':'bod',\n",
        "    '疾病和诊断' : 'dis',\n",
        "    '药物' : 'dru',\n",
        "    '手术' : 'pro'\n",
        "}"
      ],
      "metadata": {
        "id": "PXp_MIBAyEiB"
      },
      "execution_count": null,
      "outputs": []
    },
    {
      "cell_type": "code",
      "source": [
        "new_dataset2 = []\n",
        "\n",
        "for data2 in data_cmid:\n",
        "    text = data2['originalText']\n",
        "    entities = []\n",
        "\n",
        "    if data2['entities']:\n",
        "      for entity in data2['entities']:\n",
        "        start_idx = entity['start_pos']\n",
        "        end_idx = entity['end_pos'] - 1\n",
        "        label_type = entity['label_type']\n",
        "\n",
        "        if label_type in ent_type_replacement:\n",
        "            entities.append({\n",
        "                'start_idx': start_idx,\n",
        "                'end_idx': end_idx,\n",
        "                'type': ent_type_replacement[label_type],\n",
        "                'entity': text[start_idx:end_idx]\n",
        "            })\n",
        "\n",
        "      if entities:\n",
        "        new_data2 = {\n",
        "            'text': data2['originalText'],\n",
        "            'entities': entities\n",
        "        }\n",
        "\n",
        "        new_dataset2.append(new_data2)\n",
        "\n",
        "concatenated_dataset = data + new_dataset2"
      ],
      "metadata": {
        "id": "oZwYQb2z5IPO"
      },
      "execution_count": null,
      "outputs": []
    },
    {
      "cell_type": "code",
      "source": [
        "concatenated_dataset"
      ],
      "metadata": {
        "id": "w5vDTqxb5IRj"
      },
      "execution_count": null,
      "outputs": []
    },
    {
      "cell_type": "code",
      "source": [
        "# Save JSON data to a file\n",
        "with open('data.json', 'w') as json_file:\n",
        "    json.dump(data, json_file, ensure_ascii=False)"
      ],
      "metadata": {
        "id": "mn7AjXTaXM5f"
      },
      "execution_count": null,
      "outputs": []
    },
    {
      "cell_type": "code",
      "source": [
        "json_file"
      ],
      "metadata": {
        "id": "mPAk7KhRFdiy",
        "colab": {
          "base_uri": "https://localhost:8080/"
        },
        "outputId": "8599b22c-4270-43f6-df02-3e6fa0feed71"
      },
      "execution_count": null,
      "outputs": [
        {
          "output_type": "execute_result",
          "data": {
            "text/plain": [
              "<_io.TextIOWrapper name='data.json' mode='w' encoding='UTF-8'>"
            ]
          },
          "metadata": {},
          "execution_count": 9
        }
      ]
    },
    {
      "cell_type": "code",
      "source": [
        "from collections import defaultdict"
      ],
      "metadata": {
        "id": "iMFK-_Mh2jwU"
      },
      "execution_count": null,
      "outputs": []
    },
    {
      "cell_type": "code",
      "source": [
        "entities_count = defaultdict(int)\n",
        "\n",
        "for chunk in concatenated_dataset:\n",
        "  for entity in chunk['entities']:\n",
        "    entities_count[entity['type']]+=1"
      ],
      "metadata": {
        "id": "xg-cGzW32k_e"
      },
      "execution_count": null,
      "outputs": []
    },
    {
      "cell_type": "code",
      "source": [
        "entities_count"
      ],
      "metadata": {
        "colab": {
          "base_uri": "https://localhost:8080/"
        },
        "id": "cT5gPZGo3UMi",
        "outputId": "c8c392f7-1a3b-4af6-d8e8-cedb43a7e64e"
      },
      "execution_count": null,
      "outputs": [
        {
          "output_type": "execute_result",
          "data": {
            "text/plain": [
              "defaultdict(int,\n",
              "            {'dep': 4818,\n",
              "             'equ': 4503,\n",
              "             'pro': 6387,\n",
              "             'dis': 19411,\n",
              "             'sym': 12269,\n",
              "             'ite': 5389,\n",
              "             'bod': 22569,\n",
              "             'dru': 6259,\n",
              "             'mic': 1908})"
            ]
          },
          "metadata": {},
          "execution_count": 22
        }
      ]
    },
    {
      "cell_type": "code",
      "source": [
        "import matplotlib.pyplot as plt"
      ],
      "metadata": {
        "id": "gx5iKie53bKn"
      },
      "execution_count": null,
      "outputs": []
    },
    {
      "cell_type": "code",
      "source": [
        "names = entities_count.keys()\n",
        "values = entities_count.values()\n",
        "\n",
        "plt.figure(figsize=(5, 5))\n",
        "plt.bar(names, values)\n",
        "plt.suptitle('Entities Count')\n",
        "plt.show()"
      ],
      "metadata": {
        "colab": {
          "base_uri": "https://localhost:8080/",
          "height": 495
        },
        "id": "qiTogSU33ykD",
        "outputId": "beba01bf-ff82-4a06-90f0-2ff20ec6be94"
      },
      "execution_count": null,
      "outputs": [
        {
          "output_type": "display_data",
          "data": {
            "text/plain": [
              "<Figure size 500x500 with 1 Axes>"
            ],
            "image/png": "[encoded data removed]"
          },
          "metadata": {}
        }
      ]
    }
  ]
}